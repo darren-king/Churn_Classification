{
 "cells": [
  {
   "cell_type": "markdown",
   "source": [
    "We want to determine those clients whom we should incentivise in order to minimise churning."
   ],
   "metadata": {
    "collapsed": false,
    "pycharm": {
     "name": "#%% md\n"
    }
   }
  },
  {
   "cell_type": "code",
   "execution_count": 818,
   "outputs": [],
   "source": [
    "import numpy as np\n",
    "import pandas as pd\n",
    "import matplotlib.pyplot as plt\n",
    "import seaborn as sns\n",
    "from sklearn.model_selection import train_test_split\n",
    "from sklearn.metrics import mutual_info_score, accuracy_score, auc, roc_auc_score\n",
    "from sklearn.feature_extraction import DictVectorizer\n",
    "from sklearn.linear_model import LogisticRegression\n",
    "from IPython import display\n",
    "from IPython.display import display\n",
    "\n",
    "%matplotlib inline\n",
    "sns.set(rc={'figure.figsize': (15,8)}) # Size all seaborn plots from the get go"
   ],
   "metadata": {
    "collapsed": false,
    "pycharm": {
     "name": "#%%\n"
    }
   }
  },
  {
   "cell_type": "code",
   "execution_count": 818,
   "outputs": [],
   "source": [],
   "metadata": {
    "collapsed": false,
    "pycharm": {
     "name": "#%%\n"
    }
   }
  },
  {
   "cell_type": "code",
   "execution_count": 819,
   "outputs": [],
   "source": [
    "df = pd.read_csv('WA_Fn-UseC_-Telco-Customer-Churn.csv')"
   ],
   "metadata": {
    "collapsed": false,
    "pycharm": {
     "name": "#%%\n"
    }
   }
  },
  {
   "cell_type": "code",
   "execution_count": 820,
   "outputs": [
    {
     "data": {
      "text/plain": "                                 0             1               2  \\\ncustomerID              7590-VHVEG    5575-GNVDE      3668-QPYBK   \ngender                      Female          Male            Male   \nSeniorCitizen                    0             0               0   \nPartner                        Yes            No              No   \nDependents                      No            No              No   \ntenure                           1            34               2   \nPhoneService                    No           Yes             Yes   \nMultipleLines     No phone service            No              No   \nInternetService                DSL           DSL             DSL   \nOnlineSecurity                  No           Yes             Yes   \nOnlineBackup                   Yes            No             Yes   \nDeviceProtection                No           Yes              No   \nTechSupport                     No            No              No   \nStreamingTV                     No            No              No   \nStreamingMovies                 No            No              No   \nContract            Month-to-month      One year  Month-to-month   \nPaperlessBilling               Yes            No             Yes   \nPaymentMethod     Electronic check  Mailed check    Mailed check   \nMonthlyCharges               29.85         56.95           53.85   \nTotalCharges                 29.85        1889.5          108.15   \nChurn                           No            No             Yes   \n\n                                          3                 4  \ncustomerID                       7795-CFOCW        9237-HQITU  \ngender                                 Male            Female  \nSeniorCitizen                             0                 0  \nPartner                                  No                No  \nDependents                               No                No  \ntenure                                   45                 2  \nPhoneService                             No               Yes  \nMultipleLines              No phone service                No  \nInternetService                         DSL       Fiber optic  \nOnlineSecurity                          Yes                No  \nOnlineBackup                             No                No  \nDeviceProtection                        Yes                No  \nTechSupport                             Yes                No  \nStreamingTV                              No                No  \nStreamingMovies                          No                No  \nContract                           One year    Month-to-month  \nPaperlessBilling                         No               Yes  \nPaymentMethod     Bank transfer (automatic)  Electronic check  \nMonthlyCharges                         42.3              70.7  \nTotalCharges                        1840.75            151.65  \nChurn                                    No               Yes  ",
      "text/html": "<div>\n<style scoped>\n    .dataframe tbody tr th:only-of-type {\n        vertical-align: middle;\n    }\n\n    .dataframe tbody tr th {\n        vertical-align: top;\n    }\n\n    .dataframe thead th {\n        text-align: right;\n    }\n</style>\n<table border=\"1\" class=\"dataframe\">\n  <thead>\n    <tr style=\"text-align: right;\">\n      <th></th>\n      <th>0</th>\n      <th>1</th>\n      <th>2</th>\n      <th>3</th>\n      <th>4</th>\n    </tr>\n  </thead>\n  <tbody>\n    <tr>\n      <th>customerID</th>\n      <td>7590-VHVEG</td>\n      <td>5575-GNVDE</td>\n      <td>3668-QPYBK</td>\n      <td>7795-CFOCW</td>\n      <td>9237-HQITU</td>\n    </tr>\n    <tr>\n      <th>gender</th>\n      <td>Female</td>\n      <td>Male</td>\n      <td>Male</td>\n      <td>Male</td>\n      <td>Female</td>\n    </tr>\n    <tr>\n      <th>SeniorCitizen</th>\n      <td>0</td>\n      <td>0</td>\n      <td>0</td>\n      <td>0</td>\n      <td>0</td>\n    </tr>\n    <tr>\n      <th>Partner</th>\n      <td>Yes</td>\n      <td>No</td>\n      <td>No</td>\n      <td>No</td>\n      <td>No</td>\n    </tr>\n    <tr>\n      <th>Dependents</th>\n      <td>No</td>\n      <td>No</td>\n      <td>No</td>\n      <td>No</td>\n      <td>No</td>\n    </tr>\n    <tr>\n      <th>tenure</th>\n      <td>1</td>\n      <td>34</td>\n      <td>2</td>\n      <td>45</td>\n      <td>2</td>\n    </tr>\n    <tr>\n      <th>PhoneService</th>\n      <td>No</td>\n      <td>Yes</td>\n      <td>Yes</td>\n      <td>No</td>\n      <td>Yes</td>\n    </tr>\n    <tr>\n      <th>MultipleLines</th>\n      <td>No phone service</td>\n      <td>No</td>\n      <td>No</td>\n      <td>No phone service</td>\n      <td>No</td>\n    </tr>\n    <tr>\n      <th>InternetService</th>\n      <td>DSL</td>\n      <td>DSL</td>\n      <td>DSL</td>\n      <td>DSL</td>\n      <td>Fiber optic</td>\n    </tr>\n    <tr>\n      <th>OnlineSecurity</th>\n      <td>No</td>\n      <td>Yes</td>\n      <td>Yes</td>\n      <td>Yes</td>\n      <td>No</td>\n    </tr>\n    <tr>\n      <th>OnlineBackup</th>\n      <td>Yes</td>\n      <td>No</td>\n      <td>Yes</td>\n      <td>No</td>\n      <td>No</td>\n    </tr>\n    <tr>\n      <th>DeviceProtection</th>\n      <td>No</td>\n      <td>Yes</td>\n      <td>No</td>\n      <td>Yes</td>\n      <td>No</td>\n    </tr>\n    <tr>\n      <th>TechSupport</th>\n      <td>No</td>\n      <td>No</td>\n      <td>No</td>\n      <td>Yes</td>\n      <td>No</td>\n    </tr>\n    <tr>\n      <th>StreamingTV</th>\n      <td>No</td>\n      <td>No</td>\n      <td>No</td>\n      <td>No</td>\n      <td>No</td>\n    </tr>\n    <tr>\n      <th>StreamingMovies</th>\n      <td>No</td>\n      <td>No</td>\n      <td>No</td>\n      <td>No</td>\n      <td>No</td>\n    </tr>\n    <tr>\n      <th>Contract</th>\n      <td>Month-to-month</td>\n      <td>One year</td>\n      <td>Month-to-month</td>\n      <td>One year</td>\n      <td>Month-to-month</td>\n    </tr>\n    <tr>\n      <th>PaperlessBilling</th>\n      <td>Yes</td>\n      <td>No</td>\n      <td>Yes</td>\n      <td>No</td>\n      <td>Yes</td>\n    </tr>\n    <tr>\n      <th>PaymentMethod</th>\n      <td>Electronic check</td>\n      <td>Mailed check</td>\n      <td>Mailed check</td>\n      <td>Bank transfer (automatic)</td>\n      <td>Electronic check</td>\n    </tr>\n    <tr>\n      <th>MonthlyCharges</th>\n      <td>29.85</td>\n      <td>56.95</td>\n      <td>53.85</td>\n      <td>42.3</td>\n      <td>70.7</td>\n    </tr>\n    <tr>\n      <th>TotalCharges</th>\n      <td>29.85</td>\n      <td>1889.5</td>\n      <td>108.15</td>\n      <td>1840.75</td>\n      <td>151.65</td>\n    </tr>\n    <tr>\n      <th>Churn</th>\n      <td>No</td>\n      <td>No</td>\n      <td>Yes</td>\n      <td>No</td>\n      <td>Yes</td>\n    </tr>\n  </tbody>\n</table>\n</div>"
     },
     "execution_count": 820,
     "metadata": {},
     "output_type": "execute_result"
    }
   ],
   "source": [
    "df.head().T"
   ],
   "metadata": {
    "collapsed": false,
    "pycharm": {
     "name": "#%%\n"
    }
   }
  },
  {
   "cell_type": "code",
   "execution_count": 821,
   "outputs": [
    {
     "data": {
      "text/plain": "7043"
     },
     "execution_count": 821,
     "metadata": {},
     "output_type": "execute_result"
    }
   ],
   "source": [
    "len(df)"
   ],
   "metadata": {
    "collapsed": false,
    "pycharm": {
     "name": "#%%\n"
    }
   }
  },
  {
   "cell_type": "code",
   "execution_count": 822,
   "outputs": [
    {
     "data": {
      "text/plain": "customerID           object\ngender               object\nSeniorCitizen         int64\nPartner              object\nDependents           object\ntenure                int64\nPhoneService         object\nMultipleLines        object\nInternetService      object\nOnlineSecurity       object\nOnlineBackup         object\nDeviceProtection     object\nTechSupport          object\nStreamingTV          object\nStreamingMovies      object\nContract             object\nPaperlessBilling     object\nPaymentMethod        object\nMonthlyCharges      float64\nTotalCharges         object\nChurn                object\ndtype: object"
     },
     "execution_count": 822,
     "metadata": {},
     "output_type": "execute_result"
    }
   ],
   "source": [
    "df.dtypes"
   ],
   "metadata": {
    "collapsed": false,
    "pycharm": {
     "name": "#%%\n"
    }
   }
  },
  {
   "cell_type": "code",
   "execution_count": 823,
   "outputs": [
    {
     "data": {
      "text/plain": "                                 0             1               2  \\\ncustomerID              7590-VHVEG    5575-GNVDE      3668-QPYBK   \ngender                      Female          Male            Male   \nSeniorCitizen                    0             0               0   \nPartner                        Yes            No              No   \nDependents                      No            No              No   \ntenure                           1            34               2   \nPhoneService                    No           Yes             Yes   \nMultipleLines     No phone service            No              No   \nInternetService                DSL           DSL             DSL   \nOnlineSecurity                  No           Yes             Yes   \nOnlineBackup                   Yes            No             Yes   \nDeviceProtection                No           Yes              No   \nTechSupport                     No            No              No   \nStreamingTV                     No            No              No   \nStreamingMovies                 No            No              No   \nContract            Month-to-month      One year  Month-to-month   \nPaperlessBilling               Yes            No             Yes   \nPaymentMethod     Electronic check  Mailed check    Mailed check   \nMonthlyCharges               29.85         56.95           53.85   \nTotalCharges                 29.85        1889.5          108.15   \nChurn                           No            No             Yes   \n\n                                          3                 4  \ncustomerID                       7795-CFOCW        9237-HQITU  \ngender                                 Male            Female  \nSeniorCitizen                             0                 0  \nPartner                                  No                No  \nDependents                               No                No  \ntenure                                   45                 2  \nPhoneService                             No               Yes  \nMultipleLines              No phone service                No  \nInternetService                         DSL       Fiber optic  \nOnlineSecurity                          Yes                No  \nOnlineBackup                             No                No  \nDeviceProtection                        Yes                No  \nTechSupport                             Yes                No  \nStreamingTV                              No                No  \nStreamingMovies                          No                No  \nContract                           One year    Month-to-month  \nPaperlessBilling                         No               Yes  \nPaymentMethod     Bank transfer (automatic)  Electronic check  \nMonthlyCharges                         42.3              70.7  \nTotalCharges                        1840.75            151.65  \nChurn                                    No               Yes  ",
      "text/html": "<div>\n<style scoped>\n    .dataframe tbody tr th:only-of-type {\n        vertical-align: middle;\n    }\n\n    .dataframe tbody tr th {\n        vertical-align: top;\n    }\n\n    .dataframe thead th {\n        text-align: right;\n    }\n</style>\n<table border=\"1\" class=\"dataframe\">\n  <thead>\n    <tr style=\"text-align: right;\">\n      <th></th>\n      <th>0</th>\n      <th>1</th>\n      <th>2</th>\n      <th>3</th>\n      <th>4</th>\n    </tr>\n  </thead>\n  <tbody>\n    <tr>\n      <th>customerID</th>\n      <td>7590-VHVEG</td>\n      <td>5575-GNVDE</td>\n      <td>3668-QPYBK</td>\n      <td>7795-CFOCW</td>\n      <td>9237-HQITU</td>\n    </tr>\n    <tr>\n      <th>gender</th>\n      <td>Female</td>\n      <td>Male</td>\n      <td>Male</td>\n      <td>Male</td>\n      <td>Female</td>\n    </tr>\n    <tr>\n      <th>SeniorCitizen</th>\n      <td>0</td>\n      <td>0</td>\n      <td>0</td>\n      <td>0</td>\n      <td>0</td>\n    </tr>\n    <tr>\n      <th>Partner</th>\n      <td>Yes</td>\n      <td>No</td>\n      <td>No</td>\n      <td>No</td>\n      <td>No</td>\n    </tr>\n    <tr>\n      <th>Dependents</th>\n      <td>No</td>\n      <td>No</td>\n      <td>No</td>\n      <td>No</td>\n      <td>No</td>\n    </tr>\n    <tr>\n      <th>tenure</th>\n      <td>1</td>\n      <td>34</td>\n      <td>2</td>\n      <td>45</td>\n      <td>2</td>\n    </tr>\n    <tr>\n      <th>PhoneService</th>\n      <td>No</td>\n      <td>Yes</td>\n      <td>Yes</td>\n      <td>No</td>\n      <td>Yes</td>\n    </tr>\n    <tr>\n      <th>MultipleLines</th>\n      <td>No phone service</td>\n      <td>No</td>\n      <td>No</td>\n      <td>No phone service</td>\n      <td>No</td>\n    </tr>\n    <tr>\n      <th>InternetService</th>\n      <td>DSL</td>\n      <td>DSL</td>\n      <td>DSL</td>\n      <td>DSL</td>\n      <td>Fiber optic</td>\n    </tr>\n    <tr>\n      <th>OnlineSecurity</th>\n      <td>No</td>\n      <td>Yes</td>\n      <td>Yes</td>\n      <td>Yes</td>\n      <td>No</td>\n    </tr>\n    <tr>\n      <th>OnlineBackup</th>\n      <td>Yes</td>\n      <td>No</td>\n      <td>Yes</td>\n      <td>No</td>\n      <td>No</td>\n    </tr>\n    <tr>\n      <th>DeviceProtection</th>\n      <td>No</td>\n      <td>Yes</td>\n      <td>No</td>\n      <td>Yes</td>\n      <td>No</td>\n    </tr>\n    <tr>\n      <th>TechSupport</th>\n      <td>No</td>\n      <td>No</td>\n      <td>No</td>\n      <td>Yes</td>\n      <td>No</td>\n    </tr>\n    <tr>\n      <th>StreamingTV</th>\n      <td>No</td>\n      <td>No</td>\n      <td>No</td>\n      <td>No</td>\n      <td>No</td>\n    </tr>\n    <tr>\n      <th>StreamingMovies</th>\n      <td>No</td>\n      <td>No</td>\n      <td>No</td>\n      <td>No</td>\n      <td>No</td>\n    </tr>\n    <tr>\n      <th>Contract</th>\n      <td>Month-to-month</td>\n      <td>One year</td>\n      <td>Month-to-month</td>\n      <td>One year</td>\n      <td>Month-to-month</td>\n    </tr>\n    <tr>\n      <th>PaperlessBilling</th>\n      <td>Yes</td>\n      <td>No</td>\n      <td>Yes</td>\n      <td>No</td>\n      <td>Yes</td>\n    </tr>\n    <tr>\n      <th>PaymentMethod</th>\n      <td>Electronic check</td>\n      <td>Mailed check</td>\n      <td>Mailed check</td>\n      <td>Bank transfer (automatic)</td>\n      <td>Electronic check</td>\n    </tr>\n    <tr>\n      <th>MonthlyCharges</th>\n      <td>29.85</td>\n      <td>56.95</td>\n      <td>53.85</td>\n      <td>42.3</td>\n      <td>70.7</td>\n    </tr>\n    <tr>\n      <th>TotalCharges</th>\n      <td>29.85</td>\n      <td>1889.5</td>\n      <td>108.15</td>\n      <td>1840.75</td>\n      <td>151.65</td>\n    </tr>\n    <tr>\n      <th>Churn</th>\n      <td>No</td>\n      <td>No</td>\n      <td>Yes</td>\n      <td>No</td>\n      <td>Yes</td>\n    </tr>\n  </tbody>\n</table>\n</div>"
     },
     "execution_count": 823,
     "metadata": {},
     "output_type": "execute_result"
    }
   ],
   "source": [
    "df.TotalCharges = pd.to_numeric(df.TotalCharges, errors='coerce')\n",
    "df.TotalCharges = df.TotalCharges.fillna(0)\n",
    "df.head().T"
   ],
   "metadata": {
    "collapsed": false,
    "pycharm": {
     "name": "#%%\n"
    }
   }
  },
  {
   "cell_type": "code",
   "execution_count": 824,
   "outputs": [
    {
     "name": "stdout",
     "output_type": "stream",
     "text": [
      "['customerid', 'gender', 'partner', 'dependents', 'phoneservice', 'multiplelines', 'internetservice', 'onlinesecurity', 'onlinebackup', 'deviceprotection', 'techsupport', 'streamingtv', 'streamingmovies', 'contract', 'paperlessbilling', 'paymentmethod', 'churn']\n"
     ]
    }
   ],
   "source": [
    "df.columns = df.columns.str.lower().str.replace(\" \", \"_\")\n",
    "string_columns = list(df.dtypes[df.dtypes == 'object'].index)\n",
    "print(string_columns)"
   ],
   "metadata": {
    "collapsed": false,
    "pycharm": {
     "name": "#%%\n"
    }
   }
  },
  {
   "cell_type": "code",
   "execution_count": 825,
   "outputs": [],
   "source": [
    "for column in string_columns:\n",
    "    df[column] = df[column].str.lower().str.replace(\" \", \"_\")"
   ],
   "metadata": {
    "collapsed": false,
    "pycharm": {
     "name": "#%%\n"
    }
   }
  },
  {
   "cell_type": "code",
   "execution_count": 826,
   "outputs": [],
   "source": [
    "# Our dependent variable is categorical - switch to numerical\n",
    "# Yes/No --> Boolean --> cast to int (yes --> True = 1, no --> False = 0)\n",
    "df.churn = (df.churn == 'yes').astype(int)"
   ],
   "metadata": {
    "collapsed": false,
    "pycharm": {
     "name": "#%%\n"
    }
   }
  },
  {
   "cell_type": "code",
   "execution_count": 827,
   "outputs": [],
   "source": [
    "# Split the data into training and test sets:\n",
    "\n",
    "df_train_full, df_test = train_test_split(df, test_size=0.2, random_state=42)\n",
    "\n",
    "# Split the training data into training and validation sets\n",
    "\n",
    "df_train, df_val = train_test_split(df_train_full, test_size=0.33, random_state=42)\n",
    "\n",
    "y_train = df_train.churn.values # We just want the values as a np array, not the panda series\n",
    "y_val = df_val.churn.values"
   ],
   "metadata": {
    "collapsed": false,
    "pycharm": {
     "name": "#%%\n"
    }
   }
  },
  {
   "cell_type": "code",
   "execution_count": 827,
   "outputs": [],
   "source": [],
   "metadata": {
    "collapsed": false,
    "pycharm": {
     "name": "#%%\n"
    }
   }
  },
  {
   "cell_type": "code",
   "execution_count": 828,
   "outputs": [
    {
     "data": {
      "text/plain": "customerid          0\ngender              0\nseniorcitizen       0\npartner             0\ndependents          0\ntenure              0\nphoneservice        0\nmultiplelines       0\ninternetservice     0\nonlinesecurity      0\nonlinebackup        0\ndeviceprotection    0\ntechsupport         0\nstreamingtv         0\nstreamingmovies     0\ncontract            0\npaperlessbilling    0\npaymentmethod       0\nmonthlycharges      0\ntotalcharges        0\nchurn               0\ndtype: int64"
     },
     "execution_count": 828,
     "metadata": {},
     "output_type": "execute_result"
    }
   ],
   "source": [
    "df_train_full.isnull().sum()\n",
    "# There are no missing values that we have to deal with."
   ],
   "metadata": {
    "collapsed": false,
    "pycharm": {
     "name": "#%%\n"
    }
   }
  },
  {
   "cell_type": "code",
   "execution_count": 829,
   "outputs": [
    {
     "name": "stdout",
     "output_type": "stream",
     "text": [
      "churn\n",
      "0        0.734469\n",
      "1        0.265531\n",
      "dtype: float64\n"
     ]
    }
   ],
   "source": [
    "# What proportion of our training set churned?\n",
    "\n",
    "prop = df_train_full.value_counts(['churn'], normalize=True)\n",
    "print(prop)\n",
    "\n",
    "# The 1 represents those who churned, so 26.55% churned\n",
    "# We have a significant class imbalance"
   ],
   "metadata": {
    "collapsed": false,
    "pycharm": {
     "name": "#%%\n"
    }
   }
  },
  {
   "cell_type": "code",
   "execution_count": 830,
   "outputs": [
    {
     "data": {
      "text/plain": "customerid           object\ngender               object\nseniorcitizen         int64\npartner              object\ndependents           object\ntenure                int64\nphoneservice         object\nmultiplelines        object\ninternetservice      object\nonlinesecurity       object\nonlinebackup         object\ndeviceprotection     object\ntechsupport          object\nstreamingtv          object\nstreamingmovies      object\ncontract             object\npaperlessbilling     object\npaymentmethod        object\nmonthlycharges      float64\ntotalcharges        float64\nchurn                 int64\ndtype: object"
     },
     "execution_count": 830,
     "metadata": {},
     "output_type": "execute_result"
    }
   ],
   "source": [
    "df.dtypes\n"
   ],
   "metadata": {
    "collapsed": false,
    "pycharm": {
     "name": "#%%\n"
    }
   }
  },
  {
   "cell_type": "code",
   "execution_count": 831,
   "outputs": [],
   "source": [
    "categorical = ['gender', 'seniorcitizen', 'partner', 'dependents', 'phoneservice', 'multiplelines', 'internetservice', 'onlinesecurity', 'onlinebackup', 'deviceprotection', 'techsupport', 'streamingtv', 'streamingmovies', 'contract', 'paperlessbilling', 'paymentmethod']\n",
    "\n",
    "numerical = ['tenure', 'monthlycharges', 'totalcharges']"
   ],
   "metadata": {
    "collapsed": false,
    "pycharm": {
     "name": "#%%\n"
    }
   }
  },
  {
   "cell_type": "code",
   "execution_count": 832,
   "outputs": [
    {
     "data": {
      "text/plain": "gender              2\nseniorcitizen       2\npartner             2\ndependents          2\nphoneservice        2\nmultiplelines       3\ninternetservice     3\nonlinesecurity      3\nonlinebackup        3\ndeviceprotection    3\ntechsupport         3\nstreamingtv         3\nstreamingmovies     3\ncontract            3\npaperlessbilling    2\npaymentmethod       4\ndtype: int64"
     },
     "execution_count": 832,
     "metadata": {},
     "output_type": "execute_result"
    }
   ],
   "source": [
    "# Just to make sure wer haven't mis-categorised\n",
    "df_train_full[categorical].nunique()"
   ],
   "metadata": {
    "collapsed": false,
    "pycharm": {
     "name": "#%%\n"
    }
   }
  },
  {
   "cell_type": "code",
   "execution_count": 832,
   "outputs": [],
   "source": [],
   "metadata": {
    "collapsed": false,
    "pycharm": {
     "name": "#%%\n"
    }
   }
  },
  {
   "cell_type": "markdown",
   "source": [
    "### Feature Importance Analysis"
   ],
   "metadata": {
    "collapsed": false,
    "pycharm": {
     "name": "#%% md\n"
    }
   }
  },
  {
   "cell_type": "code",
   "execution_count": 833,
   "outputs": [
    {
     "name": "stdout",
     "output_type": "stream",
     "text": [
      "0.2655307064252751\n"
     ]
    }
   ],
   "source": [
    "overall_churn_mean = df_train_full.churn.mean()\n",
    "print(overall_churn_mean)"
   ],
   "metadata": {
    "collapsed": false,
    "pycharm": {
     "name": "#%%\n"
    }
   }
  },
  {
   "cell_type": "code",
   "execution_count": 834,
   "outputs": [
    {
     "name": "stdout",
     "output_type": "stream",
     "text": [
      "0.2708409173643975\n",
      "0.26047800484932454\n"
     ]
    }
   ],
   "source": [
    "# Let's look at the gender categorical attribute of the customers\n",
    "\n",
    "female_mean = df_train_full[df_train_full.gender == 'female'].churn.mean()\n",
    "print(female_mean)\n",
    "\n",
    "male_mean = df_train_full[df_train_full.gender == 'male'].churn.mean()\n",
    "print(male_mean)"
   ],
   "metadata": {
    "collapsed": false,
    "pycharm": {
     "name": "#%%\n"
    }
   }
  },
  {
   "cell_type": "markdown",
   "source": [
    "26.55% is our average churn rate across the train_full data subset - for females this is 27.08% and for males this is 26.05% - we can infer that gender isn't contributing to churn."
   ],
   "metadata": {
    "collapsed": false,
    "pycharm": {
     "name": "#%% md\n"
    }
   }
  },
  {
   "cell_type": "code",
   "execution_count": 835,
   "outputs": [
    {
     "name": "stdout",
     "output_type": "stream",
     "text": [
      "0.20073260073260074\n",
      "0.32644628099173556\n"
     ]
    }
   ],
   "source": [
    "# Looking at the partner categorical attribute\n",
    "\n",
    "partner_yes_mean = df_train_full[df_train_full.partner == 'yes'].churn.mean()\n",
    "print(partner_yes_mean)\n",
    "\n",
    "partner_no_mean = df_train_full[df_train_full.partner == 'no'].churn.mean()\n",
    "print(partner_no_mean)"
   ],
   "metadata": {
    "collapsed": false,
    "pycharm": {
     "name": "#%%\n"
    }
   }
  },
  {
   "cell_type": "markdown",
   "source": [
    "20% of those with a partner churn, whereas 32.64% of those without a partner churn - people who are single are more likely to churn. We can look at the risk of a single person churning."
   ],
   "metadata": {
    "collapsed": false,
    "pycharm": {
     "name": "#%% md\n"
    }
   }
  },
  {
   "cell_type": "code",
   "execution_count": 836,
   "outputs": [
    {
     "name": "stdout",
     "output_type": "stream",
     "text": [
      "1.2294106598311754\n"
     ]
    }
   ],
   "source": [
    "# The risk of a negative outcome in a given group = the negative outcome in that group / the negative outcome overall - less than 1 = low risk, 1 = same risk, greater than 1 = high risk\n",
    "risk_single_churning = partner_no_mean/overall_churn_mean\n",
    "\n",
    "print(risk_single_churning)"
   ],
   "metadata": {
    "collapsed": false,
    "pycharm": {
     "name": "#%%\n"
    }
   }
  },
  {
   "cell_type": "code",
   "execution_count": 837,
   "outputs": [
    {
     "data": {
      "text/plain": "            mean      Diff      Risk\ngender                              \nfemale  0.270841  0.005310  1.019998\nmale    0.260478 -0.005053  0.980971",
      "text/html": "<div>\n<style scoped>\n    .dataframe tbody tr th:only-of-type {\n        vertical-align: middle;\n    }\n\n    .dataframe tbody tr th {\n        vertical-align: top;\n    }\n\n    .dataframe thead th {\n        text-align: right;\n    }\n</style>\n<table border=\"1\" class=\"dataframe\">\n  <thead>\n    <tr style=\"text-align: right;\">\n      <th></th>\n      <th>mean</th>\n      <th>Diff</th>\n      <th>Risk</th>\n    </tr>\n    <tr>\n      <th>gender</th>\n      <th></th>\n      <th></th>\n      <th></th>\n    </tr>\n  </thead>\n  <tbody>\n    <tr>\n      <th>female</th>\n      <td>0.270841</td>\n      <td>0.005310</td>\n      <td>1.019998</td>\n    </tr>\n    <tr>\n      <th>male</th>\n      <td>0.260478</td>\n      <td>-0.005053</td>\n      <td>0.980971</td>\n    </tr>\n  </tbody>\n</table>\n</div>"
     },
     "metadata": {},
     "output_type": "display_data"
    },
    {
     "data": {
      "text/plain": "                   mean      Diff      Risk\nseniorcitizen                              \n0              0.237098 -0.028433  0.892922\n1              0.413907  0.148377  1.558793",
      "text/html": "<div>\n<style scoped>\n    .dataframe tbody tr th:only-of-type {\n        vertical-align: middle;\n    }\n\n    .dataframe tbody tr th {\n        vertical-align: top;\n    }\n\n    .dataframe thead th {\n        text-align: right;\n    }\n</style>\n<table border=\"1\" class=\"dataframe\">\n  <thead>\n    <tr style=\"text-align: right;\">\n      <th></th>\n      <th>mean</th>\n      <th>Diff</th>\n      <th>Risk</th>\n    </tr>\n    <tr>\n      <th>seniorcitizen</th>\n      <th></th>\n      <th></th>\n      <th></th>\n    </tr>\n  </thead>\n  <tbody>\n    <tr>\n      <th>0</th>\n      <td>0.237098</td>\n      <td>-0.028433</td>\n      <td>0.892922</td>\n    </tr>\n    <tr>\n      <th>1</th>\n      <td>0.413907</td>\n      <td>0.148377</td>\n      <td>1.558793</td>\n    </tr>\n  </tbody>\n</table>\n</div>"
     },
     "metadata": {},
     "output_type": "display_data"
    },
    {
     "data": {
      "text/plain": "             mean      Diff      Risk\npartner                              \nno       0.326446  0.060916  1.229411\nyes      0.200733 -0.064798  0.755968",
      "text/html": "<div>\n<style scoped>\n    .dataframe tbody tr th:only-of-type {\n        vertical-align: middle;\n    }\n\n    .dataframe tbody tr th {\n        vertical-align: top;\n    }\n\n    .dataframe thead th {\n        text-align: right;\n    }\n</style>\n<table border=\"1\" class=\"dataframe\">\n  <thead>\n    <tr style=\"text-align: right;\">\n      <th></th>\n      <th>mean</th>\n      <th>Diff</th>\n      <th>Risk</th>\n    </tr>\n    <tr>\n      <th>partner</th>\n      <th></th>\n      <th></th>\n      <th></th>\n    </tr>\n  </thead>\n  <tbody>\n    <tr>\n      <th>no</th>\n      <td>0.326446</td>\n      <td>0.060916</td>\n      <td>1.229411</td>\n    </tr>\n    <tr>\n      <th>yes</th>\n      <td>0.200733</td>\n      <td>-0.064798</td>\n      <td>0.755968</td>\n    </tr>\n  </tbody>\n</table>\n</div>"
     },
     "metadata": {},
     "output_type": "display_data"
    },
    {
     "data": {
      "text/plain": "                mean      Diff      Risk\ndependents                              \nno          0.312326  0.046795  1.176233\nyes         0.155674 -0.109856  0.586276",
      "text/html": "<div>\n<style scoped>\n    .dataframe tbody tr th:only-of-type {\n        vertical-align: middle;\n    }\n\n    .dataframe tbody tr th {\n        vertical-align: top;\n    }\n\n    .dataframe thead th {\n        text-align: right;\n    }\n</style>\n<table border=\"1\" class=\"dataframe\">\n  <thead>\n    <tr style=\"text-align: right;\">\n      <th></th>\n      <th>mean</th>\n      <th>Diff</th>\n      <th>Risk</th>\n    </tr>\n    <tr>\n      <th>dependents</th>\n      <th></th>\n      <th></th>\n      <th></th>\n    </tr>\n  </thead>\n  <tbody>\n    <tr>\n      <th>no</th>\n      <td>0.312326</td>\n      <td>0.046795</td>\n      <td>1.176233</td>\n    </tr>\n    <tr>\n      <th>yes</th>\n      <td>0.155674</td>\n      <td>-0.109856</td>\n      <td>0.586276</td>\n    </tr>\n  </tbody>\n</table>\n</div>"
     },
     "metadata": {},
     "output_type": "display_data"
    },
    {
     "data": {
      "text/plain": "                  mean      Diff      Risk\nphoneservice                              \nno            0.253623 -0.011908  0.955156\nyes           0.266824  0.001293  1.004871",
      "text/html": "<div>\n<style scoped>\n    .dataframe tbody tr th:only-of-type {\n        vertical-align: middle;\n    }\n\n    .dataframe tbody tr th {\n        vertical-align: top;\n    }\n\n    .dataframe thead th {\n        text-align: right;\n    }\n</style>\n<table border=\"1\" class=\"dataframe\">\n  <thead>\n    <tr style=\"text-align: right;\">\n      <th></th>\n      <th>mean</th>\n      <th>Diff</th>\n      <th>Risk</th>\n    </tr>\n    <tr>\n      <th>phoneservice</th>\n      <th></th>\n      <th></th>\n      <th></th>\n    </tr>\n  </thead>\n  <tbody>\n    <tr>\n      <th>no</th>\n      <td>0.253623</td>\n      <td>-0.011908</td>\n      <td>0.955156</td>\n    </tr>\n    <tr>\n      <th>yes</th>\n      <td>0.266824</td>\n      <td>0.001293</td>\n      <td>1.004871</td>\n    </tr>\n  </tbody>\n</table>\n</div>"
     },
     "metadata": {},
     "output_type": "display_data"
    },
    {
     "data": {
      "text/plain": "                      mean      Diff      Risk\nmultiplelines                                 \nno                0.251397 -0.014134  0.946771\nno_phone_service  0.253623 -0.011908  0.955156\nyes               0.284105  0.018574  1.069952",
      "text/html": "<div>\n<style scoped>\n    .dataframe tbody tr th:only-of-type {\n        vertical-align: middle;\n    }\n\n    .dataframe tbody tr th {\n        vertical-align: top;\n    }\n\n    .dataframe thead th {\n        text-align: right;\n    }\n</style>\n<table border=\"1\" class=\"dataframe\">\n  <thead>\n    <tr style=\"text-align: right;\">\n      <th></th>\n      <th>mean</th>\n      <th>Diff</th>\n      <th>Risk</th>\n    </tr>\n    <tr>\n      <th>multiplelines</th>\n      <th></th>\n      <th></th>\n      <th></th>\n    </tr>\n  </thead>\n  <tbody>\n    <tr>\n      <th>no</th>\n      <td>0.251397</td>\n      <td>-0.014134</td>\n      <td>0.946771</td>\n    </tr>\n    <tr>\n      <th>no_phone_service</th>\n      <td>0.253623</td>\n      <td>-0.011908</td>\n      <td>0.955156</td>\n    </tr>\n    <tr>\n      <th>yes</th>\n      <td>0.284105</td>\n      <td>0.018574</td>\n      <td>1.069952</td>\n    </tr>\n  </tbody>\n</table>\n</div>"
     },
     "metadata": {},
     "output_type": "display_data"
    },
    {
     "data": {
      "text/plain": "                     mean      Diff      Risk\ninternetservice                              \ndsl              0.191851 -0.073679  0.722521\nfiber_optic      0.415558  0.150028  1.565010\nno               0.076606 -0.188924  0.288502",
      "text/html": "<div>\n<style scoped>\n    .dataframe tbody tr th:only-of-type {\n        vertical-align: middle;\n    }\n\n    .dataframe tbody tr th {\n        vertical-align: top;\n    }\n\n    .dataframe thead th {\n        text-align: right;\n    }\n</style>\n<table border=\"1\" class=\"dataframe\">\n  <thead>\n    <tr style=\"text-align: right;\">\n      <th></th>\n      <th>mean</th>\n      <th>Diff</th>\n      <th>Risk</th>\n    </tr>\n    <tr>\n      <th>internetservice</th>\n      <th></th>\n      <th></th>\n      <th></th>\n    </tr>\n  </thead>\n  <tbody>\n    <tr>\n      <th>dsl</th>\n      <td>0.191851</td>\n      <td>-0.073679</td>\n      <td>0.722521</td>\n    </tr>\n    <tr>\n      <th>fiber_optic</th>\n      <td>0.415558</td>\n      <td>0.150028</td>\n      <td>1.565010</td>\n    </tr>\n    <tr>\n      <th>no</th>\n      <td>0.076606</td>\n      <td>-0.188924</td>\n      <td>0.288502</td>\n    </tr>\n  </tbody>\n</table>\n</div>"
     },
     "metadata": {},
     "output_type": "display_data"
    },
    {
     "data": {
      "text/plain": "                         mean      Diff      Risk\nonlinesecurity                                   \nno                   0.416014  0.150484  1.566727\nno_internet_service  0.076606 -0.188924  0.288502\nyes                  0.145342 -0.120189  0.547363",
      "text/html": "<div>\n<style scoped>\n    .dataframe tbody tr th:only-of-type {\n        vertical-align: middle;\n    }\n\n    .dataframe tbody tr th {\n        vertical-align: top;\n    }\n\n    .dataframe thead th {\n        text-align: right;\n    }\n</style>\n<table border=\"1\" class=\"dataframe\">\n  <thead>\n    <tr style=\"text-align: right;\">\n      <th></th>\n      <th>mean</th>\n      <th>Diff</th>\n      <th>Risk</th>\n    </tr>\n    <tr>\n      <th>onlinesecurity</th>\n      <th></th>\n      <th></th>\n      <th></th>\n    </tr>\n  </thead>\n  <tbody>\n    <tr>\n      <th>no</th>\n      <td>0.416014</td>\n      <td>0.150484</td>\n      <td>1.566727</td>\n    </tr>\n    <tr>\n      <th>no_internet_service</th>\n      <td>0.076606</td>\n      <td>-0.188924</td>\n      <td>0.288502</td>\n    </tr>\n    <tr>\n      <th>yes</th>\n      <td>0.145342</td>\n      <td>-0.120189</td>\n      <td>0.547363</td>\n    </tr>\n  </tbody>\n</table>\n</div>"
     },
     "metadata": {},
     "output_type": "display_data"
    },
    {
     "data": {
      "text/plain": "                         mean      Diff      Risk\nonlinebackup                                     \nno                   0.398693  0.133162  1.501494\nno_internet_service  0.076606 -0.188924  0.288502\nyes                  0.216531 -0.048999  0.815467",
      "text/html": "<div>\n<style scoped>\n    .dataframe tbody tr th:only-of-type {\n        vertical-align: middle;\n    }\n\n    .dataframe tbody tr th {\n        vertical-align: top;\n    }\n\n    .dataframe thead th {\n        text-align: right;\n    }\n</style>\n<table border=\"1\" class=\"dataframe\">\n  <thead>\n    <tr style=\"text-align: right;\">\n      <th></th>\n      <th>mean</th>\n      <th>Diff</th>\n      <th>Risk</th>\n    </tr>\n    <tr>\n      <th>onlinebackup</th>\n      <th></th>\n      <th></th>\n      <th></th>\n    </tr>\n  </thead>\n  <tbody>\n    <tr>\n      <th>no</th>\n      <td>0.398693</td>\n      <td>0.133162</td>\n      <td>1.501494</td>\n    </tr>\n    <tr>\n      <th>no_internet_service</th>\n      <td>0.076606</td>\n      <td>-0.188924</td>\n      <td>0.288502</td>\n    </tr>\n    <tr>\n      <th>yes</th>\n      <td>0.216531</td>\n      <td>-0.048999</td>\n      <td>0.815467</td>\n    </tr>\n  </tbody>\n</table>\n</div>"
     },
     "metadata": {},
     "output_type": "display_data"
    },
    {
     "data": {
      "text/plain": "                         mean      Diff      Risk\ndeviceprotection                                 \nno                   0.387706  0.122175  1.460117\nno_internet_service  0.076606 -0.188924  0.288502\nyes                  0.226825 -0.038705  0.854234",
      "text/html": "<div>\n<style scoped>\n    .dataframe tbody tr th:only-of-type {\n        vertical-align: middle;\n    }\n\n    .dataframe tbody tr th {\n        vertical-align: top;\n    }\n\n    .dataframe thead th {\n        text-align: right;\n    }\n</style>\n<table border=\"1\" class=\"dataframe\">\n  <thead>\n    <tr style=\"text-align: right;\">\n      <th></th>\n      <th>mean</th>\n      <th>Diff</th>\n      <th>Risk</th>\n    </tr>\n    <tr>\n      <th>deviceprotection</th>\n      <th></th>\n      <th></th>\n      <th></th>\n    </tr>\n  </thead>\n  <tbody>\n    <tr>\n      <th>no</th>\n      <td>0.387706</td>\n      <td>0.122175</td>\n      <td>1.460117</td>\n    </tr>\n    <tr>\n      <th>no_internet_service</th>\n      <td>0.076606</td>\n      <td>-0.188924</td>\n      <td>0.288502</td>\n    </tr>\n    <tr>\n      <th>yes</th>\n      <td>0.226825</td>\n      <td>-0.038705</td>\n      <td>0.854234</td>\n    </tr>\n  </tbody>\n</table>\n</div>"
     },
     "metadata": {},
     "output_type": "display_data"
    },
    {
     "data": {
      "text/plain": "                         mean      Diff      Risk\ntechsupport                                      \nno                   0.413472  0.147941  1.557153\nno_internet_service  0.076606 -0.188924  0.288502\nyes                  0.152855 -0.112676  0.575657",
      "text/html": "<div>\n<style scoped>\n    .dataframe tbody tr th:only-of-type {\n        vertical-align: middle;\n    }\n\n    .dataframe tbody tr th {\n        vertical-align: top;\n    }\n\n    .dataframe thead th {\n        text-align: right;\n    }\n</style>\n<table border=\"1\" class=\"dataframe\">\n  <thead>\n    <tr style=\"text-align: right;\">\n      <th></th>\n      <th>mean</th>\n      <th>Diff</th>\n      <th>Risk</th>\n    </tr>\n    <tr>\n      <th>techsupport</th>\n      <th></th>\n      <th></th>\n      <th></th>\n    </tr>\n  </thead>\n  <tbody>\n    <tr>\n      <th>no</th>\n      <td>0.413472</td>\n      <td>0.147941</td>\n      <td>1.557153</td>\n    </tr>\n    <tr>\n      <th>no_internet_service</th>\n      <td>0.076606</td>\n      <td>-0.188924</td>\n      <td>0.288502</td>\n    </tr>\n    <tr>\n      <th>yes</th>\n      <td>0.152855</td>\n      <td>-0.112676</td>\n      <td>0.575657</td>\n    </tr>\n  </tbody>\n</table>\n</div>"
     },
     "metadata": {},
     "output_type": "display_data"
    },
    {
     "data": {
      "text/plain": "                         mean      Diff      Risk\nstreamingtv                                      \nno                   0.335418  0.069887  1.263197\nno_internet_service  0.076606 -0.188924  0.288502\nyes                  0.298945  0.033415  1.125841",
      "text/html": "<div>\n<style scoped>\n    .dataframe tbody tr th:only-of-type {\n        vertical-align: middle;\n    }\n\n    .dataframe tbody tr th {\n        vertical-align: top;\n    }\n\n    .dataframe thead th {\n        text-align: right;\n    }\n</style>\n<table border=\"1\" class=\"dataframe\">\n  <thead>\n    <tr style=\"text-align: right;\">\n      <th></th>\n      <th>mean</th>\n      <th>Diff</th>\n      <th>Risk</th>\n    </tr>\n    <tr>\n      <th>streamingtv</th>\n      <th></th>\n      <th></th>\n      <th></th>\n    </tr>\n  </thead>\n  <tbody>\n    <tr>\n      <th>no</th>\n      <td>0.335418</td>\n      <td>0.069887</td>\n      <td>1.263197</td>\n    </tr>\n    <tr>\n      <th>no_internet_service</th>\n      <td>0.076606</td>\n      <td>-0.188924</td>\n      <td>0.288502</td>\n    </tr>\n    <tr>\n      <th>yes</th>\n      <td>0.298945</td>\n      <td>0.033415</td>\n      <td>1.125841</td>\n    </tr>\n  </tbody>\n</table>\n</div>"
     },
     "metadata": {},
     "output_type": "display_data"
    },
    {
     "data": {
      "text/plain": "                         mean      Diff      Risk\nstreamingmovies                                  \nno                   0.333333  0.067803  1.255348\nno_internet_service  0.076606 -0.188924  0.288502\nyes                  0.301320  0.035789  1.134784",
      "text/html": "<div>\n<style scoped>\n    .dataframe tbody tr th:only-of-type {\n        vertical-align: middle;\n    }\n\n    .dataframe tbody tr th {\n        vertical-align: top;\n    }\n\n    .dataframe thead th {\n        text-align: right;\n    }\n</style>\n<table border=\"1\" class=\"dataframe\">\n  <thead>\n    <tr style=\"text-align: right;\">\n      <th></th>\n      <th>mean</th>\n      <th>Diff</th>\n      <th>Risk</th>\n    </tr>\n    <tr>\n      <th>streamingmovies</th>\n      <th></th>\n      <th></th>\n      <th></th>\n    </tr>\n  </thead>\n  <tbody>\n    <tr>\n      <th>no</th>\n      <td>0.333333</td>\n      <td>0.067803</td>\n      <td>1.255348</td>\n    </tr>\n    <tr>\n      <th>no_internet_service</th>\n      <td>0.076606</td>\n      <td>-0.188924</td>\n      <td>0.288502</td>\n    </tr>\n    <tr>\n      <th>yes</th>\n      <td>0.301320</td>\n      <td>0.035789</td>\n      <td>1.134784</td>\n    </tr>\n  </tbody>\n</table>\n</div>"
     },
     "metadata": {},
     "output_type": "display_data"
    },
    {
     "data": {
      "text/plain": "                    mean      Diff      Risk\ncontract                                    \nmonth-to-month  0.426533  0.161002  1.606340\none_year        0.117987 -0.147544  0.444343\ntwo_year        0.028379 -0.237151  0.106878",
      "text/html": "<div>\n<style scoped>\n    .dataframe tbody tr th:only-of-type {\n        vertical-align: middle;\n    }\n\n    .dataframe tbody tr th {\n        vertical-align: top;\n    }\n\n    .dataframe thead th {\n        text-align: right;\n    }\n</style>\n<table border=\"1\" class=\"dataframe\">\n  <thead>\n    <tr style=\"text-align: right;\">\n      <th></th>\n      <th>mean</th>\n      <th>Diff</th>\n      <th>Risk</th>\n    </tr>\n    <tr>\n      <th>contract</th>\n      <th></th>\n      <th></th>\n      <th></th>\n    </tr>\n  </thead>\n  <tbody>\n    <tr>\n      <th>month-to-month</th>\n      <td>0.426533</td>\n      <td>0.161002</td>\n      <td>1.606340</td>\n    </tr>\n    <tr>\n      <th>one_year</th>\n      <td>0.117987</td>\n      <td>-0.147544</td>\n      <td>0.444343</td>\n    </tr>\n    <tr>\n      <th>two_year</th>\n      <td>0.028379</td>\n      <td>-0.237151</td>\n      <td>0.106878</td>\n    </tr>\n  </tbody>\n</table>\n</div>"
     },
     "metadata": {},
     "output_type": "display_data"
    },
    {
     "data": {
      "text/plain": "                     mean      Diff      Risk\npaperlessbilling                             \nno                0.16414 -0.101390  0.618159\nyes               0.33594  0.070409  1.265164",
      "text/html": "<div>\n<style scoped>\n    .dataframe tbody tr th:only-of-type {\n        vertical-align: middle;\n    }\n\n    .dataframe tbody tr th {\n        vertical-align: top;\n    }\n\n    .dataframe thead th {\n        text-align: right;\n    }\n</style>\n<table border=\"1\" class=\"dataframe\">\n  <thead>\n    <tr style=\"text-align: right;\">\n      <th></th>\n      <th>mean</th>\n      <th>Diff</th>\n      <th>Risk</th>\n    </tr>\n    <tr>\n      <th>paperlessbilling</th>\n      <th></th>\n      <th></th>\n      <th></th>\n    </tr>\n  </thead>\n  <tbody>\n    <tr>\n      <th>no</th>\n      <td>0.16414</td>\n      <td>-0.101390</td>\n      <td>0.618159</td>\n    </tr>\n    <tr>\n      <th>yes</th>\n      <td>0.33594</td>\n      <td>0.070409</td>\n      <td>1.265164</td>\n    </tr>\n  </tbody>\n</table>\n</div>"
     },
     "metadata": {},
     "output_type": "display_data"
    },
    {
     "data": {
      "text/plain": "                               mean      Diff      Risk\npaymentmethod                                          \nbank_transfer_(automatic)  0.174475 -0.091056  0.657080\ncredit_card_(automatic)    0.152404 -0.113126  0.573961\nelectronic_check           0.449921  0.184390  1.694420\nmailed_check               0.190328 -0.075203  0.716782",
      "text/html": "<div>\n<style scoped>\n    .dataframe tbody tr th:only-of-type {\n        vertical-align: middle;\n    }\n\n    .dataframe tbody tr th {\n        vertical-align: top;\n    }\n\n    .dataframe thead th {\n        text-align: right;\n    }\n</style>\n<table border=\"1\" class=\"dataframe\">\n  <thead>\n    <tr style=\"text-align: right;\">\n      <th></th>\n      <th>mean</th>\n      <th>Diff</th>\n      <th>Risk</th>\n    </tr>\n    <tr>\n      <th>paymentmethod</th>\n      <th></th>\n      <th></th>\n      <th></th>\n    </tr>\n  </thead>\n  <tbody>\n    <tr>\n      <th>bank_transfer_(automatic)</th>\n      <td>0.174475</td>\n      <td>-0.091056</td>\n      <td>0.657080</td>\n    </tr>\n    <tr>\n      <th>credit_card_(automatic)</th>\n      <td>0.152404</td>\n      <td>-0.113126</td>\n      <td>0.573961</td>\n    </tr>\n    <tr>\n      <th>electronic_check</th>\n      <td>0.449921</td>\n      <td>0.184390</td>\n      <td>1.694420</td>\n    </tr>\n    <tr>\n      <th>mailed_check</th>\n      <td>0.190328</td>\n      <td>-0.075203</td>\n      <td>0.716782</td>\n    </tr>\n  </tbody>\n</table>\n</div>"
     },
     "metadata": {},
     "output_type": "display_data"
    }
   ],
   "source": [
    "# Applying this across the board through a loop\n",
    "\n",
    "for col in categorical:\n",
    "    df_group = df_train_full.groupby(by=col).churn.agg(['mean'])\n",
    "    df_group['Diff'] = df_group['mean'] - overall_churn_mean\n",
    "    df_group['Risk'] = df_group['mean']/overall_churn_mean\n",
    "    display(df_group)\n"
   ],
   "metadata": {
    "collapsed": false,
    "pycharm": {
     "name": "#%%\n"
    }
   }
  },
  {
   "cell_type": "markdown",
   "source": [
    "We can use mutual information to further drill into the relationships between the categorical variables and the target variable which can then allow us to decide which variables to keep and which ones to ??disregard"
   ],
   "metadata": {
    "collapsed": false,
    "pycharm": {
     "name": "#%% md\n"
    }
   }
  },
  {
   "cell_type": "code",
   "execution_count": 838,
   "outputs": [],
   "source": [
    "def calculate_mutual_information(series):\n",
    "    \"\"\"\n",
    "    A function to return the mutual information between a series/column within our dataframe\n",
    "    and the churn target variable\n",
    "    :param series: A series/column from our dataframe\n",
    "    :return: A mutual information score between the series and the churn target variable\n",
    "    \"\"\"\n",
    "    return mutual_info_score(series, df_train_full.churn)"
   ],
   "metadata": {
    "collapsed": false,
    "pycharm": {
     "name": "#%%\n"
    }
   }
  },
  {
   "cell_type": "code",
   "execution_count": 839,
   "outputs": [
    {
     "data": {
      "text/plain": "                  mutual_information\ncontract                    0.096652\nonlinesecurity              0.063393\ntechsupport                 0.060935\ninternetservice             0.053313\nonlinebackup                0.045424\npaymentmethod               0.042861\ndeviceprotection            0.042007\nstreamingtv                 0.030844\nstreamingmovies             0.030705\npaperlessbilling            0.019077\ndependents                  0.014129\npartner                     0.010227\nseniorcitizen               0.010059\nmultiplelines               0.000654\ngender                      0.000069\nphoneservice                0.000040",
      "text/html": "<div>\n<style scoped>\n    .dataframe tbody tr th:only-of-type {\n        vertical-align: middle;\n    }\n\n    .dataframe tbody tr th {\n        vertical-align: top;\n    }\n\n    .dataframe thead th {\n        text-align: right;\n    }\n</style>\n<table border=\"1\" class=\"dataframe\">\n  <thead>\n    <tr style=\"text-align: right;\">\n      <th></th>\n      <th>mutual_information</th>\n    </tr>\n  </thead>\n  <tbody>\n    <tr>\n      <th>contract</th>\n      <td>0.096652</td>\n    </tr>\n    <tr>\n      <th>onlinesecurity</th>\n      <td>0.063393</td>\n    </tr>\n    <tr>\n      <th>techsupport</th>\n      <td>0.060935</td>\n    </tr>\n    <tr>\n      <th>internetservice</th>\n      <td>0.053313</td>\n    </tr>\n    <tr>\n      <th>onlinebackup</th>\n      <td>0.045424</td>\n    </tr>\n    <tr>\n      <th>paymentmethod</th>\n      <td>0.042861</td>\n    </tr>\n    <tr>\n      <th>deviceprotection</th>\n      <td>0.042007</td>\n    </tr>\n    <tr>\n      <th>streamingtv</th>\n      <td>0.030844</td>\n    </tr>\n    <tr>\n      <th>streamingmovies</th>\n      <td>0.030705</td>\n    </tr>\n    <tr>\n      <th>paperlessbilling</th>\n      <td>0.019077</td>\n    </tr>\n    <tr>\n      <th>dependents</th>\n      <td>0.014129</td>\n    </tr>\n    <tr>\n      <th>partner</th>\n      <td>0.010227</td>\n    </tr>\n    <tr>\n      <th>seniorcitizen</th>\n      <td>0.010059</td>\n    </tr>\n    <tr>\n      <th>multiplelines</th>\n      <td>0.000654</td>\n    </tr>\n    <tr>\n      <th>gender</th>\n      <td>0.000069</td>\n    </tr>\n    <tr>\n      <th>phoneservice</th>\n      <td>0.000040</td>\n    </tr>\n  </tbody>\n</table>\n</div>"
     },
     "execution_count": 839,
     "metadata": {},
     "output_type": "execute_result"
    }
   ],
   "source": [
    "df_mi = df_train_full[categorical].apply(calculate_mutual_information)\n",
    "# Sort the values of the above from most informative to least\n",
    "df_mi = df_mi.sort_values(ascending=False).to_frame(name='mutual_information')\n",
    "df_mi"
   ],
   "metadata": {
    "collapsed": false,
    "pycharm": {
     "name": "#%%\n"
    }
   }
  },
  {
   "cell_type": "markdown",
   "source": [
    "For the numerical (or non-categorical) variables we can use the correlation co-efficient (Pearson's)\n",
    "0 --> No correlation\n",
    "1 --> Fully positively correlated\n",
    "-1 --> Fully negatively correlated"
   ],
   "metadata": {
    "collapsed": false,
    "pycharm": {
     "name": "#%% md\n"
    }
   }
  },
  {
   "cell_type": "code",
   "execution_count": 840,
   "outputs": [
    {
     "data": {
      "text/plain": "tenure           -0.344925\nmonthlycharges    0.188574\ntotalcharges     -0.193370\ndtype: float64"
     },
     "execution_count": 840,
     "metadata": {},
     "output_type": "execute_result"
    }
   ],
   "source": [
    "df_train_full[numerical].corrwith(df_train_full.churn)"
   ],
   "metadata": {
    "collapsed": false,
    "pycharm": {
     "name": "#%%\n"
    }
   }
  },
  {
   "cell_type": "code",
   "execution_count": 840,
   "outputs": [],
   "source": [],
   "metadata": {
    "collapsed": false,
    "pycharm": {
     "name": "#%%\n"
    }
   }
  },
  {
   "cell_type": "markdown",
   "source": [
    "### Feature Engineering"
   ],
   "metadata": {
    "collapsed": false,
    "pycharm": {
     "name": "#%% md\n"
    }
   }
  },
  {
   "cell_type": "code",
   "execution_count": 841,
   "outputs": [
    {
     "name": "stdout",
     "output_type": "stream",
     "text": [
      "{'gender': 'female', 'seniorcitizen': 0, 'partner': 'no', 'dependents': 'no', 'phoneservice': 'yes', 'multiplelines': 'no', 'internetservice': 'fiber_optic', 'onlinesecurity': 'no', 'onlinebackup': 'no', 'deviceprotection': 'no', 'techsupport': 'no', 'streamingtv': 'no', 'streamingmovies': 'no', 'contract': 'month-to-month', 'paperlessbilling': 'yes', 'paymentmethod': 'electronic_check', 'tenure': 18, 'monthlycharges': 71.1, 'totalcharges': 1247.75}\n"
     ]
    }
   ],
   "source": [
    "train_dict = df_train[categorical + numerical].to_dict(orient='records')\n",
    "print(train_dict[0])"
   ],
   "metadata": {
    "collapsed": false,
    "pycharm": {
     "name": "#%%\n"
    }
   }
  },
  {
   "cell_type": "code",
   "execution_count": 842,
   "outputs": [],
   "source": [
    "# Use dict vectoriser from scikit-learn for one-hot encoding of the categorical variables\n",
    "\n",
    "dict_vectoriser = DictVectorizer(sparse=False) # We want a numpy array not a sparse matrix\n",
    "dict_vectoriser.fit(train_dict)\n",
    "\n",
    "X_train = dict_vectoriser.transform(train_dict)"
   ],
   "metadata": {
    "collapsed": false,
    "pycharm": {
     "name": "#%%\n"
    }
   }
  },
  {
   "cell_type": "code",
   "execution_count": 843,
   "outputs": [
    {
     "name": "stderr",
     "output_type": "stream",
     "text": [
      "/Users/darrenking/miniforge3/envs/env_ml/lib/python3.9/site-packages/sklearn/utils/deprecation.py:87: FutureWarning: Function get_feature_names is deprecated; get_feature_names is deprecated in 1.0 and will be removed in 1.2. Please use get_feature_names_out instead.\n",
      "  warnings.warn(msg, category=FutureWarning)\n"
     ]
    },
    {
     "data": {
      "text/plain": "['contract=month-to-month',\n 'contract=one_year',\n 'contract=two_year',\n 'dependents=no',\n 'dependents=yes',\n 'deviceprotection=no',\n 'deviceprotection=no_internet_service',\n 'deviceprotection=yes',\n 'gender=female',\n 'gender=male',\n 'internetservice=dsl',\n 'internetservice=fiber_optic',\n 'internetservice=no',\n 'monthlycharges',\n 'multiplelines=no',\n 'multiplelines=no_phone_service',\n 'multiplelines=yes',\n 'onlinebackup=no',\n 'onlinebackup=no_internet_service',\n 'onlinebackup=yes',\n 'onlinesecurity=no',\n 'onlinesecurity=no_internet_service',\n 'onlinesecurity=yes',\n 'paperlessbilling=no',\n 'paperlessbilling=yes',\n 'partner=no',\n 'partner=yes',\n 'paymentmethod=bank_transfer_(automatic)',\n 'paymentmethod=credit_card_(automatic)',\n 'paymentmethod=electronic_check',\n 'paymentmethod=mailed_check',\n 'phoneservice=no',\n 'phoneservice=yes',\n 'seniorcitizen',\n 'streamingmovies=no',\n 'streamingmovies=no_internet_service',\n 'streamingmovies=yes',\n 'streamingtv=no',\n 'streamingtv=no_internet_service',\n 'streamingtv=yes',\n 'techsupport=no',\n 'techsupport=no_internet_service',\n 'techsupport=yes',\n 'tenure',\n 'totalcharges']"
     },
     "execution_count": 843,
     "metadata": {},
     "output_type": "execute_result"
    }
   ],
   "source": [
    "dict_vectoriser.get_feature_names()"
   ],
   "metadata": {
    "collapsed": false,
    "pycharm": {
     "name": "#%%\n"
    }
   }
  },
  {
   "cell_type": "code",
   "execution_count": 843,
   "outputs": [],
   "source": [],
   "metadata": {
    "collapsed": false,
    "pycharm": {
     "name": "#%%\n"
    }
   }
  },
  {
   "cell_type": "markdown",
   "source": [
    "### Model - Logistic Regression"
   ],
   "metadata": {
    "collapsed": false,
    "pycharm": {
     "name": "#%% md\n"
    }
   }
  },
  {
   "cell_type": "code",
   "execution_count": 844,
   "outputs": [],
   "source": [
    "# display.Image(\"./logistic_regression.png\")"
   ],
   "metadata": {
    "collapsed": false,
    "pycharm": {
     "name": "#%%\n"
    }
   }
  },
  {
   "cell_type": "markdown",
   "source": [
    "y = 1 means the customer churned, y = 0 means the customer stayed"
   ],
   "metadata": {
    "collapsed": false,
    "pycharm": {
     "name": "#%% md\n"
    }
   }
  },
  {
   "cell_type": "code",
   "execution_count": 845,
   "outputs": [
    {
     "data": {
      "text/plain": "LogisticRegression(random_state=42, solver='liblinear')"
     },
     "execution_count": 845,
     "metadata": {},
     "output_type": "execute_result"
    }
   ],
   "source": [
    "# Define and fit our model on the training data\n",
    "\n",
    "model = LogisticRegression(solver='liblinear', random_state=42)\n",
    "model.fit(X_train, y_train)"
   ],
   "metadata": {
    "collapsed": false,
    "pycharm": {
     "name": "#%%\n"
    }
   }
  },
  {
   "cell_type": "code",
   "execution_count": 846,
   "outputs": [
    {
     "name": "stdout",
     "output_type": "stream",
     "text": [
      "[[0.84642912 0.15357088]\n",
      " [0.72567614 0.27432386]\n",
      " [0.56220199 0.43779801]\n",
      " ...\n",
      " [0.33391452 0.66608548]\n",
      " [0.99711901 0.00288099]\n",
      " [0.70289228 0.29710772]]\n"
     ]
    }
   ],
   "source": [
    "# Test it against the validation dataset\n",
    "\n",
    "val_dict = df_val[categorical + numerical].to_dict(orient='records')\n",
    "X_val = dict_vectoriser.transform(val_dict)\n",
    "\n",
    "y_pred = model.predict_proba(X_val)\n",
    "print(y_pred)"
   ],
   "metadata": {
    "collapsed": false,
    "pycharm": {
     "name": "#%%\n"
    }
   }
  },
  {
   "cell_type": "markdown",
   "source": [
    "The first column is the probability of that customer not churning\n",
    "The second columns is the probability of that customer churning\n",
    "(We really only need the second column)."
   ],
   "metadata": {
    "collapsed": false,
    "pycharm": {
     "name": "#%% md\n"
    }
   }
  },
  {
   "cell_type": "code",
   "execution_count": 847,
   "outputs": [],
   "source": [
    "y_pred = y_pred[:,1] # We need all the rows and just the second column which has index of 1"
   ],
   "metadata": {
    "collapsed": false,
    "pycharm": {
     "name": "#%%\n"
    }
   }
  },
  {
   "cell_type": "code",
   "execution_count": 848,
   "outputs": [
    {
     "name": "stdout",
     "output_type": "stream",
     "text": [
      "[0.15357088 0.27432386 0.43779801 ... 0.66608548 0.00288099 0.29710772]\n"
     ]
    }
   ],
   "source": [
    "print(y_pred)"
   ],
   "metadata": {
    "collapsed": false,
    "pycharm": {
     "name": "#%%\n"
    }
   }
  },
  {
   "cell_type": "code",
   "execution_count": 849,
   "outputs": [
    {
     "name": "stdout",
     "output_type": "stream",
     "text": [
      "[False False False ...  True False False]\n"
     ]
    }
   ],
   "source": [
    "# Create an array of booleans indicating whether a consumer is likely to churn\n",
    "# which we can then compare to the y_val to assess the accuracy of our model.\n",
    "\n",
    "churn = y_pred >= 0.5 # True = customer churns, False they won't\n",
    "print(churn)"
   ],
   "metadata": {
    "collapsed": false,
    "pycharm": {
     "name": "#%%\n"
    }
   }
  },
  {
   "cell_type": "code",
   "execution_count": 850,
   "outputs": [
    {
     "name": "stdout",
     "output_type": "stream",
     "text": [
      "[0 0 1 ... 1 0 0]\n"
     ]
    }
   ],
   "source": [
    "print(y_val) # 1 = customer churns, 0 they don't"
   ],
   "metadata": {
    "collapsed": false,
    "pycharm": {
     "name": "#%%\n"
    }
   }
  },
  {
   "cell_type": "code",
   "execution_count": 851,
   "outputs": [
    {
     "data": {
      "text/plain": "0.7973118279569893"
     },
     "execution_count": 851,
     "metadata": {},
     "output_type": "execute_result"
    }
   ],
   "source": [
    "(y_val == churn).mean()"
   ],
   "metadata": {
    "collapsed": false,
    "pycharm": {
     "name": "#%%\n"
    }
   }
  },
  {
   "cell_type": "markdown",
   "source": [
    "The model has an accuracy of approximately 80% - not great; we'll explore further metrics on this below."
   ],
   "metadata": {
    "collapsed": false,
    "pycharm": {
     "name": "#%% md\n"
    }
   }
  },
  {
   "cell_type": "code",
   "execution_count": 852,
   "outputs": [
    {
     "name": "stdout",
     "output_type": "stream",
     "text": [
      "-0.15395776026812832\n",
      "[ 7.15473854e-01 -8.56790369e-02 -7.83752577e-01 -5.28398394e-02\n",
      " -1.01117921e-01 -1.83498150e-03 -1.30846476e-01 -2.12763024e-02\n",
      "  4.04447017e-02 -1.94402462e-01 -3.35644436e-01  3.12533152e-01\n",
      " -1.30846476e-01  3.43428808e-03 -2.55406639e-01  1.00409590e-01\n",
      "  1.03928846e-03  3.71017421e-02 -1.30846476e-01 -6.02130260e-02\n",
      "  1.68951044e-01 -1.30846476e-01 -1.92062328e-01 -2.54906346e-01\n",
      "  1.00948586e-01 -6.11247534e-02 -9.28330069e-02 -9.44536317e-02\n",
      " -1.81054032e-01  1.98708068e-01 -7.71581644e-02  1.00409590e-01\n",
      " -2.54367350e-01  9.31898126e-02 -1.69083879e-01 -1.30846476e-01\n",
      "  1.45972595e-01 -6.10965797e-02 -1.30846476e-01  3.79852958e-02\n",
      "  1.67158171e-01 -1.30846476e-01 -1.90269455e-01 -5.42702164e-02\n",
      "  2.33428419e-04]\n"
     ]
    }
   ],
   "source": [
    "# For the logistic regression bias and model coefficients:\n",
    "\n",
    "bias = model.intercept_[0]\n",
    "print(bias)\n",
    "\n",
    "weights = model.coef_[0]\n",
    "print(weights)"
   ],
   "metadata": {
    "collapsed": false,
    "pycharm": {
     "name": "#%%\n"
    }
   }
  },
  {
   "cell_type": "markdown",
   "source": [
    "Note that the bias is negative, i.e. on average, churning has a negative bias. Logistic regression utilises a sigmoid curve with a central point of zero so a negative bias equates to a less than 0.5 probability (on a 0-1 probability scale). As such the negative bias shows, on average, without consideration of the other parameters that a customer is statistically less likely to churn than not churn - we know this from the statistical analysis above where the average churn rate is 26.55%"
   ],
   "metadata": {
    "collapsed": false,
    "pycharm": {
     "name": "#%% md\n"
    }
   }
  },
  {
   "cell_type": "code",
   "execution_count": 853,
   "outputs": [
    {
     "name": "stdout",
     "output_type": "stream",
     "text": [
      "{'contract=month-to-month': 0.7154738539999073, 'contract=one_year': -0.08567903694751232, 'contract=two_year': -0.7837525773205091, 'dependents=no': -0.052839839424461764, 'dependents=yes': -0.10111792084364128, 'deviceprotection=no': -0.0018349814991204271, 'deviceprotection=no_internet_service': -0.13084647631973223, 'deviceprotection=yes': -0.021276302449281238, 'gender=female': 0.040444701747489625, 'gender=male': -0.19440246201562786, 'internetservice=dsl': -0.335644435712886, 'internetservice=fiber_optic': 0.3125331517645093, 'internetservice=no': -0.13084647631973223, 'monthlycharges': 0.0034342880755537796, 'multiplelines=no': -0.25540663888266635, 'multiplelines=no_phone_service': 0.1004095901533147, 'multiplelines=yes': 0.0010392884612055952, 'onlinebackup=no': 0.03710174207519277, 'onlinebackup=no_internet_service': -0.13084647631973223, 'onlinebackup=yes': -0.06021302602358808, 'onlinesecurity=no': 0.16895104448479062, 'onlinesecurity=no_internet_service': -0.13084647631973223, 'onlinesecurity=yes': -0.1920623284331919, 'paperlessbilling=no': -0.2549063459854279, 'paperlessbilling=yes': 0.10094858571731996, 'partner=no': -0.061124753403959134, 'partner=yes': -0.09283300686415777, 'paymentmethod=bank_transfer_(automatic)': -0.094453631749736, 'paymentmethod=credit_card_(automatic)': -0.18105403246647234, 'paymentmethod=electronic_check': 0.19870806835259103, 'paymentmethod=mailed_check': -0.07715816440452096, 'phoneservice=no': 0.1004095901533147, 'phoneservice=yes': -0.25436735042143027, 'seniorcitizen': 0.09318981262830126, 'streamingmovies=no': -0.16908387920193102, 'streamingmovies=no_internet_service': -0.13084647631973223, 'streamingmovies=yes': 0.14597259525352657, 'streamingtv=no': -0.06109657973000064, 'streamingtv=no_internet_service': -0.13084647631973223, 'streamingtv=yes': 0.037985295781599426, 'techsupport=no': 0.16715817058832236, 'techsupport=no_internet_service': -0.13084647631973223, 'techsupport=yes': -0.19026945453671454, 'tenure': -0.054270216425100416, 'totalcharges': 0.00023342841851825688}\n"
     ]
    }
   ],
   "source": [
    "# We can look at the weights for each parameter:\n",
    "\n",
    "parameter_weights = dict(zip(dict_vectoriser.get_feature_names_out(), model.coef_[0]))\n",
    "print(parameter_weights)"
   ],
   "metadata": {
    "collapsed": false,
    "pycharm": {
     "name": "#%%\n"
    }
   }
  },
  {
   "cell_type": "code",
   "execution_count": 853,
   "outputs": [],
   "source": [],
   "metadata": {
    "collapsed": false,
    "pycharm": {
     "name": "#%%\n"
    }
   }
  },
  {
   "cell_type": "code",
   "execution_count": 854,
   "outputs": [
    {
     "data": {
      "text/plain": "array([[0.92486228, 0.07513772]])"
     },
     "execution_count": 854,
     "metadata": {},
     "output_type": "execute_result"
    }
   ],
   "source": [
    "# We can look at a single customer...\n",
    "\n",
    "customer = df[df.customerid == '8879-zkjof']\n",
    "customer = customer.drop(['churn'], axis=1)\n",
    "customer = customer.to_dict('records')[0]\n",
    "\n",
    "X_test = dict_vectoriser.transform([customer])\n",
    "model.predict_proba(X_test)"
   ],
   "metadata": {
    "collapsed": false,
    "pycharm": {
     "name": "#%%\n"
    }
   }
  },
  {
   "cell_type": "markdown",
   "source": [
    "Again, the first figure is the probability of staying with the company and the second is the probability of churning for this particular customer calculated against our model."
   ],
   "metadata": {
    "collapsed": false,
    "pycharm": {
     "name": "#%% md\n"
    }
   }
  },
  {
   "cell_type": "code",
   "execution_count": 854,
   "outputs": [],
   "source": [],
   "metadata": {
    "collapsed": false,
    "pycharm": {
     "name": "#%%\n"
    }
   }
  },
  {
   "cell_type": "code",
   "execution_count": 854,
   "outputs": [],
   "source": [],
   "metadata": {
    "collapsed": false,
    "pycharm": {
     "name": "#%%\n"
    }
   }
  },
  {
   "cell_type": "markdown",
   "source": [
    "## Evaluation Metrics For Classification"
   ],
   "metadata": {
    "collapsed": false,
    "pycharm": {
     "name": "#%% md\n"
    }
   }
  },
  {
   "cell_type": "code",
   "execution_count": 854,
   "outputs": [],
   "source": [],
   "metadata": {
    "collapsed": false,
    "pycharm": {
     "name": "#%%\n"
    }
   }
  },
  {
   "cell_type": "markdown",
   "source": [
    "### Accuracy"
   ],
   "metadata": {
    "collapsed": false,
    "pycharm": {
     "name": "#%% md\n"
    }
   }
  },
  {
   "cell_type": "code",
   "execution_count": 854,
   "outputs": [],
   "source": [],
   "metadata": {
    "collapsed": false,
    "pycharm": {
     "name": "#%%\n"
    }
   }
  },
  {
   "cell_type": "code",
   "execution_count": 855,
   "outputs": [
    {
     "data": {
      "text/plain": "0.7973118279569893"
     },
     "execution_count": 855,
     "metadata": {},
     "output_type": "execute_result"
    }
   ],
   "source": [
    "# The accuracy on the validation set as we saw above - 80%\n",
    "\n",
    "y_pred = model.predict_proba(X_val)[:,1]\n",
    "churn = y_pred >= 0.5 # The accuracy is based on a 50% threshold\n",
    "(churn == y_val).mean()"
   ],
   "metadata": {
    "collapsed": false,
    "pycharm": {
     "name": "#%%\n"
    }
   }
  },
  {
   "cell_type": "code",
   "execution_count": 856,
   "outputs": [
    {
     "name": "stdout",
     "output_type": "stream",
     "text": [
      "Accuracy:  0.2597  for a threshold of:  0.0\n",
      "Accuracy:  0.6113  for a threshold of:  0.1\n",
      "Accuracy:  0.6968  for a threshold of:  0.2\n",
      "Accuracy:  0.7522  for a threshold of:  0.3\n",
      "Accuracy:  0.7758  for a threshold of:  0.4\n",
      "Accuracy:  0.7973  for a threshold of:  0.5\n",
      "Accuracy:  0.7952  for a threshold of:  0.6\n",
      "Accuracy:  0.7688  for a threshold of:  0.7\n",
      "Accuracy:  0.7446  for a threshold of:  0.8\n",
      "Accuracy:  0.7403  for a threshold of:  0.9\n",
      "Accuracy:  0.7403  for a threshold of:  1.0\n"
     ]
    }
   ],
   "source": [
    "# Looking at an array of thresholds\n",
    "\n",
    "thresholds = np.linspace(0,1,11)\n",
    "accuracy_scores = []\n",
    "\n",
    "for threshold in thresholds:\n",
    "    churn = y_pred >= threshold\n",
    "    acc = accuracy_score(y_val, churn)\n",
    "    accuracy_scores.append(acc)\n",
    "    print(\"Accuracy: \" , acc.round(4), \" for a threshold of: \", threshold.round(1))"
   ],
   "metadata": {
    "collapsed": false,
    "pycharm": {
     "name": "#%%\n"
    }
   }
  },
  {
   "cell_type": "code",
   "execution_count": 857,
   "outputs": [
    {
     "data": {
      "text/plain": "[<matplotlib.lines.Line2D at 0x166da2c40>]"
     },
     "execution_count": 857,
     "metadata": {},
     "output_type": "execute_result"
    },
    {
     "data": {
      "text/plain": "<Figure size 1080x576 with 1 Axes>",
      "image/png": "[encoded data removed]"
     },
     "metadata": {},
     "output_type": "display_data"
    }
   ],
   "source": [
    "fig, ax = plt.subplots()\n",
    "ax.set_title(\"Threshold vs. Accuracy\")\n",
    "ax.set_xlabel(\"Threshold\")\n",
    "ax.set_ylabel(\"Accuracy\")\n",
    "ax.plot(thresholds, accuracy_scores)"
   ],
   "metadata": {
    "collapsed": false,
    "pycharm": {
     "name": "#%%\n"
    }
   }
  },
  {
   "cell_type": "code",
   "execution_count": 857,
   "outputs": [],
   "source": [],
   "metadata": {
    "collapsed": false,
    "pycharm": {
     "name": "#%%\n"
    }
   }
  },
  {
   "cell_type": "code",
   "execution_count": 858,
   "outputs": [
    {
     "data": {
      "text/plain": "0.7403225806451613"
     },
     "execution_count": 858,
     "metadata": {},
     "output_type": "execute_result"
    }
   ],
   "source": [
    "# How does our model compare against a dummy baseline which always predicts no churn\n",
    "\n",
    "baseline = np.repeat(False, len(y_val))\n",
    "\n",
    "accuracy_score(baseline, y_val)"
   ],
   "metadata": {
    "collapsed": false,
    "pycharm": {
     "name": "#%%\n"
    }
   }
  },
  {
   "cell_type": "markdown",
   "source": [
    "Our model is only 6% better than a dummy model that always predicts no churn - really not great. At least not great from an accuracy POV. But we do have to appreciate that our data set is imbalanced and that skew will obviosuly affect accuracy."
   ],
   "metadata": {
    "collapsed": false,
    "pycharm": {
     "name": "#%% md\n"
    }
   }
  },
  {
   "cell_type": "code",
   "execution_count": 858,
   "outputs": [],
   "source": [],
   "metadata": {
    "collapsed": false,
    "pycharm": {
     "name": "#%%\n"
    }
   }
  },
  {
   "cell_type": "markdown",
   "source": [
    "### Confusion Matrix"
   ],
   "metadata": {
    "collapsed": false,
    "pycharm": {
     "name": "#%% md\n"
    }
   }
  },
  {
   "cell_type": "code",
   "execution_count": 858,
   "outputs": [],
   "source": [],
   "metadata": {
    "collapsed": false,
    "pycharm": {
     "name": "#%%\n"
    }
   }
  },
  {
   "cell_type": "code",
   "execution_count": 859,
   "outputs": [],
   "source": [
    "# Create a confusion matrix against our validation set\n",
    "\n",
    "threshold = 0.5 # From our accuracy graph above this is the best threshold for accuracy\n",
    "model_predicts_churn = (y_pred >= threshold)\n",
    "model_no_predicts_churn = (y_pred < threshold)\n",
    "\n",
    "actual_churn = (y_val == 1)\n",
    "actual_no_churn = (y_val == 0)\n",
    "\n",
    "true_positive = (model_predicts_churn & actual_churn).sum()\n",
    "false_positive = (model_predicts_churn & actual_no_churn).sum()\n",
    "\n",
    "false_negative = (model_no_predicts_churn & actual_churn).sum()\n",
    "true_negative = (model_no_predicts_churn & actual_no_churn).sum()"
   ],
   "metadata": {
    "collapsed": false,
    "pycharm": {
     "name": "#%%\n"
    }
   }
  },
  {
   "cell_type": "code",
   "execution_count": 860,
   "outputs": [
    {
     "name": "stdout",
     "output_type": "stream",
     "text": [
      "[[1225  152]\n",
      " [ 225  258]]\n"
     ]
    }
   ],
   "source": [
    "confusionmatrix = np.array([[true_negative, false_positive], [false_negative, true_positive]])\n",
    "print(confusionmatrix)"
   ],
   "metadata": {
    "collapsed": false,
    "pycharm": {
     "name": "#%%\n"
    }
   }
  },
  {
   "cell_type": "code",
   "execution_count": 861,
   "outputs": [
    {
     "data": {
      "text/plain": "array([[0.65860215, 0.08172043],\n       [0.12096774, 0.13870968]])"
     },
     "execution_count": 861,
     "metadata": {},
     "output_type": "execute_result"
    }
   ],
   "source": [
    "# Represented as a proportional table\n",
    "confusionmatrix/confusionmatrix.sum()"
   ],
   "metadata": {
    "collapsed": false,
    "pycharm": {
     "name": "#%%\n"
    }
   }
  },
  {
   "cell_type": "markdown",
   "source": [
    "Predicts negative values correctly 65% of the time\n",
    "Predicts positive values correctly 14% of the time"
   ],
   "metadata": {
    "collapsed": false,
    "pycharm": {
     "name": "#%% md\n"
    }
   }
  },
  {
   "cell_type": "code",
   "execution_count": 861,
   "outputs": [],
   "source": [],
   "metadata": {
    "collapsed": false,
    "pycharm": {
     "name": "#%%\n"
    }
   }
  },
  {
   "cell_type": "markdown",
   "source": [
    "### Precision & Recall"
   ],
   "metadata": {
    "collapsed": false,
    "pycharm": {
     "name": "#%% md\n"
    }
   }
  },
  {
   "cell_type": "markdown",
   "source": [
    "We can use the confusion matrix; precision and recall are useful in the case of class imbalance in our model.\n",
    "\n",
    "The Precision of our model is the percentage of positive predictions that are correct.\n",
    "\n",
    "The Recall of our model is the percentage of positive predictions out of all positive samples/examples.\n",
    "\n",
    "(Neither precision or recall take into account true negatives; it's all about the positive sample set."
   ],
   "metadata": {
    "collapsed": false,
    "pycharm": {
     "name": "#%% md\n"
    }
   }
  },
  {
   "cell_type": "code",
   "execution_count": 861,
   "outputs": [],
   "source": [],
   "metadata": {
    "collapsed": false,
    "pycharm": {
     "name": "#%%\n"
    }
   }
  },
  {
   "cell_type": "code",
   "execution_count": 862,
   "outputs": [
    {
     "name": "stdout",
     "output_type": "stream",
     "text": [
      "0.6292682926829268\n"
     ]
    }
   ],
   "source": [
    "precision = true_positive/(true_positive + false_positive)\n",
    "print(precision)"
   ],
   "metadata": {
    "collapsed": false,
    "pycharm": {
     "name": "#%%\n"
    }
   }
  },
  {
   "cell_type": "code",
   "execution_count": 863,
   "outputs": [
    {
     "name": "stdout",
     "output_type": "stream",
     "text": [
      "0.5341614906832298\n"
     ]
    }
   ],
   "source": [
    "recall = true_positive/(true_positive + false_negative)\n",
    "print(recall)"
   ],
   "metadata": {
    "collapsed": false,
    "pycharm": {
     "name": "#%%\n"
    }
   }
  },
  {
   "cell_type": "markdown",
   "source": [
    "Precision and recall are limited in that they describe the performance of a model at a given threshold. We need a metric that looks at our model for all possible thresholds."
   ],
   "metadata": {
    "collapsed": false,
    "pycharm": {
     "name": "#%% md\n"
    }
   }
  },
  {
   "cell_type": "code",
   "execution_count": 863,
   "outputs": [],
   "source": [],
   "metadata": {
    "collapsed": false,
    "pycharm": {
     "name": "#%%\n"
    }
   }
  },
  {
   "cell_type": "markdown",
   "source": [
    "### ROC Curve & AUC Score"
   ],
   "metadata": {
    "collapsed": false,
    "pycharm": {
     "name": "#%% md\n"
    }
   }
  },
  {
   "cell_type": "markdown",
   "source": [
    "ROC = Receiver Operating Characteristics - how well can a model seperate 2 classes?\n",
    "\n",
    "ROC requires both FPR and TPR"
   ],
   "metadata": {
    "collapsed": false,
    "pycharm": {
     "name": "#%% md\n"
    }
   }
  },
  {
   "cell_type": "code",
   "execution_count": 864,
   "outputs": [
    {
     "name": "stdout",
     "output_type": "stream",
     "text": [
      "0.11038489469862019\n"
     ]
    }
   ],
   "source": [
    "# A small fpr indicates a good model\n",
    "fpr = false_positive/(false_positive + true_negative)\n",
    "print(fpr)"
   ],
   "metadata": {
    "collapsed": false,
    "pycharm": {
     "name": "#%%\n"
    }
   }
  },
  {
   "cell_type": "code",
   "execution_count": 865,
   "outputs": [
    {
     "name": "stdout",
     "output_type": "stream",
     "text": [
      "0.5341614906832298\n"
     ]
    }
   ],
   "source": [
    "# TPR is recall\n",
    "tpr = true_positive/(true_positive + false_negative)\n",
    "print(tpr)"
   ],
   "metadata": {
    "collapsed": false,
    "pycharm": {
     "name": "#%%\n"
    }
   }
  },
  {
   "cell_type": "code",
   "execution_count": 866,
   "outputs": [
    {
     "data": {
      "text/plain": "   threshold   tp    fp  fn   tn\n0       0.00  483  1377   0    0\n1       0.01  481  1193   2  184\n2       0.02  479  1065   4  312\n3       0.03  473   983  10  394\n4       0.04  469   924  14  453\n5       0.05  468   862  15  515\n6       0.06  466   815  17  562\n7       0.07  462   787  21  590\n8       0.08  458   754  25  623\n9       0.09  455   713  28  664",
      "text/html": "<div>\n<style scoped>\n    .dataframe tbody tr th:only-of-type {\n        vertical-align: middle;\n    }\n\n    .dataframe tbody tr th {\n        vertical-align: top;\n    }\n\n    .dataframe thead th {\n        text-align: right;\n    }\n</style>\n<table border=\"1\" class=\"dataframe\">\n  <thead>\n    <tr style=\"text-align: right;\">\n      <th></th>\n      <th>threshold</th>\n      <th>tp</th>\n      <th>fp</th>\n      <th>fn</th>\n      <th>tn</th>\n    </tr>\n  </thead>\n  <tbody>\n    <tr>\n      <th>0</th>\n      <td>0.00</td>\n      <td>483</td>\n      <td>1377</td>\n      <td>0</td>\n      <td>0</td>\n    </tr>\n    <tr>\n      <th>1</th>\n      <td>0.01</td>\n      <td>481</td>\n      <td>1193</td>\n      <td>2</td>\n      <td>184</td>\n    </tr>\n    <tr>\n      <th>2</th>\n      <td>0.02</td>\n      <td>479</td>\n      <td>1065</td>\n      <td>4</td>\n      <td>312</td>\n    </tr>\n    <tr>\n      <th>3</th>\n      <td>0.03</td>\n      <td>473</td>\n      <td>983</td>\n      <td>10</td>\n      <td>394</td>\n    </tr>\n    <tr>\n      <th>4</th>\n      <td>0.04</td>\n      <td>469</td>\n      <td>924</td>\n      <td>14</td>\n      <td>453</td>\n    </tr>\n    <tr>\n      <th>5</th>\n      <td>0.05</td>\n      <td>468</td>\n      <td>862</td>\n      <td>15</td>\n      <td>515</td>\n    </tr>\n    <tr>\n      <th>6</th>\n      <td>0.06</td>\n      <td>466</td>\n      <td>815</td>\n      <td>17</td>\n      <td>562</td>\n    </tr>\n    <tr>\n      <th>7</th>\n      <td>0.07</td>\n      <td>462</td>\n      <td>787</td>\n      <td>21</td>\n      <td>590</td>\n    </tr>\n    <tr>\n      <th>8</th>\n      <td>0.08</td>\n      <td>458</td>\n      <td>754</td>\n      <td>25</td>\n      <td>623</td>\n    </tr>\n    <tr>\n      <th>9</th>\n      <td>0.09</td>\n      <td>455</td>\n      <td>713</td>\n      <td>28</td>\n      <td>664</td>\n    </tr>\n  </tbody>\n</table>\n</div>"
     },
     "execution_count": 866,
     "metadata": {},
     "output_type": "execute_result"
    }
   ],
   "source": [
    "# Again we've only calculated these values for a particular threshold. So we need to calculate them against a few different thresholds.\n",
    "\n",
    "scores = []\n",
    "\n",
    "thresholds = np.linspace(0,1,101)\n",
    "\n",
    "for t in thresholds:\n",
    "    tp = ((y_pred >= t)&(y_val == 1)).sum()\n",
    "    fp = ((y_pred >= t)&(y_val == 0)).sum()\n",
    "    fn = ((y_pred < t)&(y_val == 1)).sum()\n",
    "    tn = ((y_pred < t)&(y_val == 0)).sum()\n",
    "    scores.append((t, tp, fp, fn, tn))\n",
    "\n",
    "# Convert to pandas dataframe for ease of use\n",
    "\n",
    "df_scores = pd.DataFrame(scores)\n",
    "df_scores.columns = ['threshold', 'tp', 'fp', 'fn', 'tn']\n",
    "\n",
    "df_scores.head(10)"
   ],
   "metadata": {
    "collapsed": false,
    "pycharm": {
     "name": "#%%\n"
    }
   }
  },
  {
   "cell_type": "code",
   "execution_count": 867,
   "outputs": [
    {
     "data": {
      "text/plain": "   threshold   tp    fp  fn   tn       tpr       fpr\n0       0.00  483  1377   0    0  1.000000  1.000000\n1       0.01  481  1193   2  184  0.995859  0.866376\n2       0.02  479  1065   4  312  0.991718  0.773420\n3       0.03  473   983  10  394  0.979296  0.713871\n4       0.04  469   924  14  453  0.971014  0.671024",
      "text/html": "<div>\n<style scoped>\n    .dataframe tbody tr th:only-of-type {\n        vertical-align: middle;\n    }\n\n    .dataframe tbody tr th {\n        vertical-align: top;\n    }\n\n    .dataframe thead th {\n        text-align: right;\n    }\n</style>\n<table border=\"1\" class=\"dataframe\">\n  <thead>\n    <tr style=\"text-align: right;\">\n      <th></th>\n      <th>threshold</th>\n      <th>tp</th>\n      <th>fp</th>\n      <th>fn</th>\n      <th>tn</th>\n      <th>tpr</th>\n      <th>fpr</th>\n    </tr>\n  </thead>\n  <tbody>\n    <tr>\n      <th>0</th>\n      <td>0.00</td>\n      <td>483</td>\n      <td>1377</td>\n      <td>0</td>\n      <td>0</td>\n      <td>1.000000</td>\n      <td>1.000000</td>\n    </tr>\n    <tr>\n      <th>1</th>\n      <td>0.01</td>\n      <td>481</td>\n      <td>1193</td>\n      <td>2</td>\n      <td>184</td>\n      <td>0.995859</td>\n      <td>0.866376</td>\n    </tr>\n    <tr>\n      <th>2</th>\n      <td>0.02</td>\n      <td>479</td>\n      <td>1065</td>\n      <td>4</td>\n      <td>312</td>\n      <td>0.991718</td>\n      <td>0.773420</td>\n    </tr>\n    <tr>\n      <th>3</th>\n      <td>0.03</td>\n      <td>473</td>\n      <td>983</td>\n      <td>10</td>\n      <td>394</td>\n      <td>0.979296</td>\n      <td>0.713871</td>\n    </tr>\n    <tr>\n      <th>4</th>\n      <td>0.04</td>\n      <td>469</td>\n      <td>924</td>\n      <td>14</td>\n      <td>453</td>\n      <td>0.971014</td>\n      <td>0.671024</td>\n    </tr>\n  </tbody>\n</table>\n</div>"
     },
     "execution_count": 867,
     "metadata": {},
     "output_type": "execute_result"
    }
   ],
   "source": [
    "df_scores['tpr'] = df_scores.tp/(df_scores.tp + df_scores.fn)\n",
    "df_scores['fpr'] = df_scores.fp/(df_scores.fp + df_scores.tn)\n",
    "\n",
    "df_scores.head()"
   ],
   "metadata": {
    "collapsed": false,
    "pycharm": {
     "name": "#%%\n"
    }
   }
  },
  {
   "cell_type": "code",
   "execution_count": 868,
   "outputs": [
    {
     "data": {
      "text/plain": "     threshold   tp    fp   fn    tn       tpr       fpr\n0          0.0  483  1377    0     0  1.000000  1.000000\n10         0.1  451   691   32   686  0.933747  0.501816\n20         0.2  411   492   72   885  0.850932  0.357298\n30         0.3  362   340  121  1037  0.749482  0.246914\n40         0.4  318   252  165  1125  0.658385  0.183007\n50         0.5  258   152  225  1225  0.534161  0.110385\n60         0.6  191    89  292  1288  0.395445  0.064633\n70         0.7   82    29  401  1348  0.169772  0.021060\n80         0.8    8     0  475  1377  0.016563  0.000000\n90         0.9    0     0  483  1377  0.000000  0.000000\n100        1.0    0     0  483  1377  0.000000  0.000000",
      "text/html": "<div>\n<style scoped>\n    .dataframe tbody tr th:only-of-type {\n        vertical-align: middle;\n    }\n\n    .dataframe tbody tr th {\n        vertical-align: top;\n    }\n\n    .dataframe thead th {\n        text-align: right;\n    }\n</style>\n<table border=\"1\" class=\"dataframe\">\n  <thead>\n    <tr style=\"text-align: right;\">\n      <th></th>\n      <th>threshold</th>\n      <th>tp</th>\n      <th>fp</th>\n      <th>fn</th>\n      <th>tn</th>\n      <th>tpr</th>\n      <th>fpr</th>\n    </tr>\n  </thead>\n  <tbody>\n    <tr>\n      <th>0</th>\n      <td>0.0</td>\n      <td>483</td>\n      <td>1377</td>\n      <td>0</td>\n      <td>0</td>\n      <td>1.000000</td>\n      <td>1.000000</td>\n    </tr>\n    <tr>\n      <th>10</th>\n      <td>0.1</td>\n      <td>451</td>\n      <td>691</td>\n      <td>32</td>\n      <td>686</td>\n      <td>0.933747</td>\n      <td>0.501816</td>\n    </tr>\n    <tr>\n      <th>20</th>\n      <td>0.2</td>\n      <td>411</td>\n      <td>492</td>\n      <td>72</td>\n      <td>885</td>\n      <td>0.850932</td>\n      <td>0.357298</td>\n    </tr>\n    <tr>\n      <th>30</th>\n      <td>0.3</td>\n      <td>362</td>\n      <td>340</td>\n      <td>121</td>\n      <td>1037</td>\n      <td>0.749482</td>\n      <td>0.246914</td>\n    </tr>\n    <tr>\n      <th>40</th>\n      <td>0.4</td>\n      <td>318</td>\n      <td>252</td>\n      <td>165</td>\n      <td>1125</td>\n      <td>0.658385</td>\n      <td>0.183007</td>\n    </tr>\n    <tr>\n      <th>50</th>\n      <td>0.5</td>\n      <td>258</td>\n      <td>152</td>\n      <td>225</td>\n      <td>1225</td>\n      <td>0.534161</td>\n      <td>0.110385</td>\n    </tr>\n    <tr>\n      <th>60</th>\n      <td>0.6</td>\n      <td>191</td>\n      <td>89</td>\n      <td>292</td>\n      <td>1288</td>\n      <td>0.395445</td>\n      <td>0.064633</td>\n    </tr>\n    <tr>\n      <th>70</th>\n      <td>0.7</td>\n      <td>82</td>\n      <td>29</td>\n      <td>401</td>\n      <td>1348</td>\n      <td>0.169772</td>\n      <td>0.021060</td>\n    </tr>\n    <tr>\n      <th>80</th>\n      <td>0.8</td>\n      <td>8</td>\n      <td>0</td>\n      <td>475</td>\n      <td>1377</td>\n      <td>0.016563</td>\n      <td>0.000000</td>\n    </tr>\n    <tr>\n      <th>90</th>\n      <td>0.9</td>\n      <td>0</td>\n      <td>0</td>\n      <td>483</td>\n      <td>1377</td>\n      <td>0.000000</td>\n      <td>0.000000</td>\n    </tr>\n    <tr>\n      <th>100</th>\n      <td>1.0</td>\n      <td>0</td>\n      <td>0</td>\n      <td>483</td>\n      <td>1377</td>\n      <td>0.000000</td>\n      <td>0.000000</td>\n    </tr>\n  </tbody>\n</table>\n</div>"
     },
     "execution_count": 868,
     "metadata": {},
     "output_type": "execute_result"
    }
   ],
   "source": [
    "df_scores[::10]"
   ],
   "metadata": {
    "collapsed": false,
    "pycharm": {
     "name": "#%%\n"
    }
   }
  },
  {
   "cell_type": "code",
   "execution_count": 869,
   "outputs": [
    {
     "data": {
      "text/plain": "<matplotlib.legend.Legend at 0x1688f7b80>"
     },
     "execution_count": 869,
     "metadata": {},
     "output_type": "execute_result"
    },
    {
     "data": {
      "text/plain": "<Figure size 1080x576 with 2 Axes>",
      "image/png": "[encoded data removed]"
     },
     "metadata": {},
     "output_type": "display_data"
    }
   ],
   "source": [
    "fig, ax = plt.subplots(2,1)\n",
    "ax1 = ax[0]\n",
    "ax2 = ax[1]\n",
    "ax1.plot(df_scores.threshold, df_scores.tpr, label = \"True Positive Rate\")\n",
    "ax1.set_xlabel(\"Threshold\")\n",
    "ax1.set_ylabel(\"TPR\")\n",
    "ax2.plot(df_scores.threshold, df_scores.fpr, label = \"False Positive Rate\")\n",
    "ax2.set_xlabel(\"Threshold\")\n",
    "ax2.set_ylabel(\"FPR\")\n",
    "plt.legend()"
   ],
   "metadata": {
    "collapsed": false,
    "pycharm": {
     "name": "#%%\n"
    }
   }
  },
  {
   "cell_type": "code",
   "execution_count": 870,
   "outputs": [
    {
     "data": {
      "text/plain": "<matplotlib.legend.Legend at 0x16b624340>"
     },
     "execution_count": 870,
     "metadata": {},
     "output_type": "execute_result"
    },
    {
     "data": {
      "text/plain": "<Figure size 1080x576 with 1 Axes>",
      "image/png": "[encoded data removed]"
     },
     "metadata": {},
     "output_type": "display_data"
    }
   ],
   "source": [
    "plt.plot(df_scores.threshold, df_scores.tpr, label = \"True Positive Rate\")\n",
    "plt.plot(df_scores.threshold, df_scores.fpr, label = \"False Positive Rate\")\n",
    "plt.legend()"
   ],
   "metadata": {
    "collapsed": false,
    "pycharm": {
     "name": "#%%\n"
    }
   }
  },
  {
   "cell_type": "markdown",
   "source": [
    "For the ideal model FPR should drop quickly = model makes few mistakes predicting false positives\n",
    "\n",
    "For the ideal model TPR should go down slowly = model predicts true positives well."
   ],
   "metadata": {
    "collapsed": false,
    "pycharm": {
     "name": "#%% md\n"
    }
   }
  },
  {
   "cell_type": "markdown",
   "source": [
    "We can better understand this by creating a baseline random model; instead of using the predictions of our model, quickly generate random data to create a random model.\n",
    "We can then compare that against a perfect model."
   ],
   "metadata": {
    "collapsed": false,
    "pycharm": {
     "name": "#%% md\n"
    }
   }
  },
  {
   "cell_type": "code",
   "execution_count": 871,
   "outputs": [],
   "source": [
    "np.random.seed(42)\n",
    "\n",
    "y_rand = np.random.uniform(0,1, len(y_val)) # These are the predictions of our random model"
   ],
   "metadata": {
    "collapsed": false,
    "pycharm": {
     "name": "#%%\n"
    }
   }
  },
  {
   "cell_type": "code",
   "execution_count": 872,
   "outputs": [],
   "source": [
    "def tpr_fpr_dataframe (y_val, y_pred):\n",
    "    \"\"\"\n",
    "    A function that takes in actual and predicted values from a model and\n",
    "    returns a dataframe comprised of the true positive, false positive, tpr and fpr\n",
    "    :param y_val: The actual values of our validation set\n",
    "    :param y_pred: The predicted values of our model to compare against the validation set\n",
    "    :return: A dataframe as described above.\n",
    "    \"\"\"\n",
    "\n",
    "    scores = []\n",
    "\n",
    "    thresholds = np.linspace(0,1,101)\n",
    "\n",
    "    for t in thresholds:\n",
    "        tp = ((y_pred >= t)&(y_val == 1)).sum()\n",
    "        fp = ((y_pred >= t)&(y_val == 0)).sum()\n",
    "        fn = ((y_pred < t)&(y_val == 1)).sum()\n",
    "        tn = ((y_pred < t)&(y_val == 0)).sum()\n",
    "        scores.append((t, tp, fp, fn, tn))\n",
    "\n",
    "    # Convert to pandas dataframe for ease of use\n",
    "\n",
    "    df_scores = pd.DataFrame(scores)\n",
    "    df_scores.columns = ['threshold', 'tp', 'fp', 'fn', 'tn']\n",
    "\n",
    "    df_scores['tpr'] = df_scores.tp/(df_scores.tp + df_scores.fn)\n",
    "    df_scores['fpr'] = df_scores.fp/(df_scores.fp + df_scores.tn)\n",
    "\n",
    "    return df_scores"
   ],
   "metadata": {
    "collapsed": false,
    "pycharm": {
     "name": "#%%\n"
    }
   }
  },
  {
   "cell_type": "code",
   "execution_count": 873,
   "outputs": [
    {
     "data": {
      "text/plain": "<matplotlib.legend.Legend at 0x16b5f7250>"
     },
     "execution_count": 873,
     "metadata": {},
     "output_type": "execute_result"
    },
    {
     "data": {
      "text/plain": "<Figure size 1080x576 with 1 Axes>",
      "image/png": "[encoded data removed]"
     },
     "metadata": {},
     "output_type": "display_data"
    }
   ],
   "source": [
    "# Using the above function against our random model....\n",
    "\n",
    "df_random = tpr_fpr_dataframe(y_val, y_rand)\n",
    "\n",
    "# And plotting this as we did above\n",
    "plt.plot(df_random.threshold, df_random.tpr, label = \"True Positive Rate\")\n",
    "plt.plot(df_random.threshold, df_random.fpr, label = \"False Positive Rate\")\n",
    "plt.suptitle(\"Random Model\")\n",
    "plt.legend()\n"
   ],
   "metadata": {
    "collapsed": false,
    "pycharm": {
     "name": "#%%\n"
    }
   }
  },
  {
   "cell_type": "markdown",
   "source": [
    "In a random model both the TPR and the FPR will decrease from 100 to 0 at the same rate."
   ],
   "metadata": {
    "collapsed": false,
    "pycharm": {
     "name": "#%% md\n"
    }
   }
  },
  {
   "cell_type": "code",
   "execution_count": 874,
   "outputs": [
    {
     "data": {
      "text/plain": "<matplotlib.legend.Legend at 0x16b6fcca0>"
     },
     "execution_count": 874,
     "metadata": {},
     "output_type": "execute_result"
    },
    {
     "data": {
      "text/plain": "<Figure size 1080x576 with 1 Axes>",
      "image/png": "[encoded data removed]"
     },
     "metadata": {},
     "output_type": "display_data"
    }
   ],
   "source": [
    "num_neg = (y_val == 0).sum()\n",
    "num_pos = (y_val == 1).sum()\n",
    "\n",
    "y_perfect = np.repeat([0,1], [num_neg, num_pos]) # Repeats 0 num_neg times, then 1 num_pos times\n",
    "y_perfect_pred = np.linspace(0,1,(num_pos + num_neg))\n",
    "\n",
    "# Using our previously defined function against our perfect model...\n",
    "df_perfect = tpr_fpr_dataframe(y_perfect, y_perfect_pred)\n",
    "\n",
    "# And plotting this as per above, again:\n",
    "\n",
    "plt.plot(df_perfect.threshold, df_perfect.tpr, label = \"True Positive Rate\")\n",
    "plt.plot(df_perfect.threshold, df_perfect.fpr, label = \"False Positive Rate\")\n",
    "plt.suptitle(\"Perfect Model\")\n",
    "plt.legend()\n"
   ],
   "metadata": {
    "collapsed": false,
    "pycharm": {
     "name": "#%%\n"
    }
   }
  },
  {
   "cell_type": "markdown",
   "source": [
    "In the case of a ROC curve we plot FPR against TPR and include the ideal and random models for comparative purposes - a model should always be between the random and the perfect model; the closer to the perfect model the better."
   ],
   "metadata": {
    "collapsed": false,
    "pycharm": {
     "name": "#%% md\n"
    }
   }
  },
  {
   "cell_type": "code",
   "execution_count": 874,
   "outputs": [],
   "source": [],
   "metadata": {
    "collapsed": false,
    "pycharm": {
     "name": "#%%\n"
    }
   }
  },
  {
   "cell_type": "code",
   "execution_count": 875,
   "outputs": [
    {
     "data": {
      "text/plain": "<matplotlib.legend.Legend at 0x16b6c7a60>"
     },
     "execution_count": 875,
     "metadata": {},
     "output_type": "execute_result"
    },
    {
     "data": {
      "text/plain": "<Figure size 1080x576 with 1 Axes>",
      "image/png": "[encoded data removed]"
     },
     "metadata": {},
     "output_type": "display_data"
    }
   ],
   "source": [
    "plt.plot(df_scores.fpr, df_scores.tpr, label = \"Our Model\")\n",
    "plt.plot(df_random.fpr, df_random.tpr, label = \"Random\")\n",
    "plt.plot(df_perfect.fpr, df_perfect.tpr, label = \"Perfect\")\n",
    "plt.xlabel(\"False Positive Rate\")\n",
    "plt.ylabel(\"True Positive Rate\")\n",
    "plt.suptitle(\"ROC Curve\")\n",
    "plt.legend()"
   ],
   "metadata": {
    "collapsed": false,
    "pycharm": {
     "name": "#%%\n"
    }
   }
  },
  {
   "cell_type": "markdown",
   "source": [
    "We could represent this in a different manner..."
   ],
   "metadata": {
    "collapsed": false,
    "pycharm": {
     "name": "#%% md\n"
    }
   }
  },
  {
   "cell_type": "code",
   "execution_count": 876,
   "outputs": [
    {
     "data": {
      "text/plain": "<matplotlib.legend.Legend at 0x16b2920d0>"
     },
     "execution_count": 876,
     "metadata": {},
     "output_type": "execute_result"
    },
    {
     "data": {
      "text/plain": "<Figure size 1080x576 with 1 Axes>",
      "image/png": "[encoded data removed]"
     },
     "metadata": {},
     "output_type": "display_data"
    }
   ],
   "source": [
    "plt.plot(df_scores.fpr, df_scores.tpr, label = \"Our Model\")\n",
    "plt.plot([0,1], [0,1], linestyle = 'dashed', label = \"Random\")\n",
    "# plt.plot(df_perfect.fpr, df_perfect.tpr, label = \"Perfect\")\n",
    "plt.xlabel(\"False Positive Rate\")\n",
    "plt.ylabel(\"True Positive Rate\")\n",
    "plt.suptitle(\"ROC Curve\")\n",
    "plt.legend()"
   ],
   "metadata": {
    "collapsed": false,
    "pycharm": {
     "name": "#%%\n"
    }
   }
  },
  {
   "cell_type": "code",
   "execution_count": 876,
   "outputs": [],
   "source": [],
   "metadata": {
    "collapsed": false,
    "pycharm": {
     "name": "#%%\n"
    }
   }
  },
  {
   "cell_type": "code",
   "execution_count": 877,
   "outputs": [
    {
     "name": "stdout",
     "output_type": "stream",
     "text": [
      "0.8325823082856331\n"
     ]
    }
   ],
   "source": [
    "# The auc --> what is the probability that a randomly selected positive example will have a score higher than a\n",
    "# randomly selected negative example\n",
    "\n",
    "area_under_curve = auc(df_scores.fpr, df_scores.tpr)\n",
    "print(area_under_curve)"
   ],
   "metadata": {
    "collapsed": false,
    "pycharm": {
     "name": "#%%\n"
    }
   }
  },
  {
   "cell_type": "code",
   "execution_count": 879,
   "outputs": [
    {
     "name": "stdout",
     "output_type": "stream",
     "text": [
      "0.8323537681309776\n"
     ]
    }
   ],
   "source": [
    "# Alternatively, without having to precalculate the fpr and tpr:\n",
    "\n",
    "area_under_curve = roc_auc_score(y_val, y_pred)\n",
    "print(area_under_curve)"
   ],
   "metadata": {
    "collapsed": false,
    "pycharm": {
     "name": "#%%\n"
    }
   }
  },
  {
   "cell_type": "code",
   "execution_count": null,
   "outputs": [],
   "source": [],
   "metadata": {
    "collapsed": false,
    "pycharm": {
     "name": "#%%\n"
    }
   }
  }
 ],
 "metadata": {
  "kernelspec": {
   "display_name": "Python 3",
   "language": "python",
   "name": "python3"
  },
  "language_info": {
   "codemirror_mode": {
    "name": "ipython",
    "version": 2
   },
   "file_extension": ".py",
   "mimetype": "text/x-python",
   "name": "python",
   "nbconvert_exporter": "python",
   "pygments_lexer": "ipython2",
   "version": "2.7.6"
  }
 },
 "nbformat": 4,
 "nbformat_minor": 0
}